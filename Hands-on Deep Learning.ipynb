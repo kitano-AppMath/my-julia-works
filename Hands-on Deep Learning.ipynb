{
 "cells": [
  {
   "cell_type": "markdown",
   "id": "e817a1af",
   "metadata": {},
   "source": [
    "# Deep Learning"
   ]
  },
  {
   "cell_type": "markdown",
   "id": "c7addfde",
   "metadata": {},
   "source": [
    "## 0. Initialize"
   ]
  },
  {
   "cell_type": "code",
   "execution_count": 1,
   "id": "bb105e13",
   "metadata": {},
   "outputs": [],
   "source": [
    "#mathematics\n",
    "using LinearAlgebra\n",
    "using Flux\n",
    "\n",
    "#statistics\n",
    "using Random\n",
    "using Statistics\n",
    "\n",
    "#visualize\n",
    "using Plots\n",
    "pyplot()\n",
    "\n",
    "#macros\n",
    "using UnPack\n",
    "using ProgressMeter"
   ]
  },
  {
   "cell_type": "markdown",
   "id": "bec103a6",
   "metadata": {},
   "source": [
    "## 1. Hands on"
   ]
  },
  {
   "cell_type": "markdown",
   "id": "599e07a9",
   "metadata": {},
   "source": [
    "### 1-1. Create Neural Network"
   ]
  },
  {
   "cell_type": "code",
   "execution_count": 2,
   "id": "de6dfa15",
   "metadata": {},
   "outputs": [
    {
     "data": {
      "text/plain": [
       "init_nn (generic function with 1 method)"
      ]
     },
     "execution_count": 2,
     "metadata": {},
     "output_type": "execute_result"
    }
   ],
   "source": [
    "#create abstract layer, Neural Network\n",
    "abstract type AbstractLayer end\n",
    "abstract type AbstractNeuralNetwork end\n",
    "\n",
    "#create layer\n",
    "mutable struct Layer <: AbstractLayer\n",
    "    d_in::Int32\n",
    "    d_out::Int32\n",
    "    zvec::Vector{Float32}\n",
    "    avec::Vector{Float32}\n",
    "    error::Vector{Float32}\n",
    "    weights::Matrix{Float32}\n",
    "    bias::Vector{Float32}\n",
    "end\n",
    "\n",
    "#create neural network\n",
    "mutable struct NeuralNetwork <: AbstractNeuralNetwork\n",
    "    n_hiddens::Vector{Int32}\n",
    "    layers::Vector{Layer}\n",
    "end\n",
    "\n",
    "#initialize the layers\n",
    "function init_layer(d_in, d_out, W_init, b_init)\n",
    "    return Layer(d_in, d_out, zeros(d_out), zeros(d_out), zeros(d_out), W_init, b_init)\n",
    "end\n",
    "init_layer(d_in, d_out) = init_layer(d_in, d_out, randn(d_out,d_in), zeros(d_out))\n",
    "\n",
    "#initialize the neural network\n",
    "function init_nn(n_hiddens)\n",
    "    L = length(n_hiddens)\n",
    "    layers = Vector{Layer}(undef,L-1)\n",
    "    for l in 1:L-1\n",
    "        d_in = n_hiddens[l]\n",
    "        d_out = n_hiddens[l+1]\n",
    "        layers[l] = init_layer(d_in, d_out)\n",
    "    end\n",
    "    return NeuralNetwork(n_hiddens,layers)\n",
    "end"
   ]
  },
  {
   "cell_type": "markdown",
   "id": "6a056833",
   "metadata": {},
   "source": [
    "### 1-2. Forward and backward pass"
   ]
  },
  {
   "cell_type": "code",
   "execution_count": 3,
   "id": "790bdc67",
   "metadata": {},
   "outputs": [
    {
     "data": {
      "text/plain": [
       "back_prop! (generic function with 1 method)"
      ]
     },
     "execution_count": 3,
     "metadata": {},
     "output_type": "execute_result"
    }
   ],
   "source": [
    "#activation function \n",
    "function sigmoid(x)\n",
    "   1 ./ (1 .+ exp.(-x)) \n",
    "end\n",
    "\n",
    "#derivative of sigmoid\n",
    "function sigmoid_prime(x)\n",
    "    sigmoid(x) .* (1 .- sigmoid(x))\n",
    "end\n",
    "\n",
    "#forward pass\n",
    "function forward!(x,nn,L)\n",
    "    avec_prev = x\n",
    "    for l in 1:L-1\n",
    "        nn.layers[l].zvec = nn.layers[l].weights * avec_prev + nn.layers[l].bias\n",
    "        nn.layers[l].avec = sigmoid(nn.layers[l].zvec)\n",
    "        avec_prev = nn.layers[l].avec\n",
    "    end\n",
    "end\n",
    "\n",
    "#back propagation\n",
    "function back_prop!(y,nn,L)\n",
    "    nn.layers[L-1].error = sigmoid_prime(nn.layers[L-1].zvec) .* (nn.layers[L-1].avec-y)\n",
    "    for l in reverse(1:L-2)\n",
    "        nn.layers[l].error = sigmoid_prime(nn.layers[l].zvec) .* (nn.layers[l+1].weights' * nn.layers[l+1].error)\n",
    "    end\n",
    "end"
   ]
  },
  {
   "cell_type": "markdown",
   "id": "806981e1",
   "metadata": {},
   "source": [
    "### 1-3. Training"
   ]
  },
  {
   "cell_type": "code",
   "execution_count": 4,
   "id": "23a99f3a",
   "metadata": {},
   "outputs": [
    {
     "data": {
      "text/plain": [
       "my_train (generic function with 1 method)"
      ]
     },
     "execution_count": 4,
     "metadata": {},
     "output_type": "execute_result"
    }
   ],
   "source": [
    "#loss function \n",
    "function cost(X,Y,nn,L)\n",
    "    N = size(X,2)\n",
    "    costs = zeros(N)\n",
    "    for n in 1:N\n",
    "        forward!(X[:,n],nn,L)\n",
    "        costs[n] = norm(Y[:,n]-nn.layers[L-1].avec)^2\n",
    "    end\n",
    "    mean(costs)\n",
    "end\n",
    "\n",
    "#stochastic gradient descent\n",
    "function SGD_update!(nn,ε,xvec,L)\n",
    "    avec_prev = xvec\n",
    "    for l in 1:L-1\n",
    "        nn.layers[l].weights -= ε * nn.layers[l].error * avec_prev'\n",
    "        nn.layers[l].bias -= ε * nn.layers[l].error\n",
    "        avec_prev = nn.layers[l].avec\n",
    "    end\n",
    "end\n",
    "\n",
    "#training\n",
    "function my_train(data, nn, n_train, ε)\n",
    "    @unpack X,Y,N = data\n",
    "    L = length(nn.n_hiddens)\n",
    "    costs = zeros(n_train)\n",
    "    @showprogress for k in 1:n_train\n",
    "        n = rand(1:N)\n",
    "        x = X[:,n]\n",
    "        y = Y[:,n]\n",
    "        forward!(x,nn,L)\n",
    "        back_prop!(y,nn,L)\n",
    "        SGD_update!(nn,ε,x,L)\n",
    "        costs[k] = cost(X,Y,nn,L)\n",
    "    end\n",
    "    return costs\n",
    "end"
   ]
  },
  {
   "cell_type": "markdown",
   "id": "72622719",
   "metadata": {},
   "source": [
    "### 1-4. Experiment"
   ]
  },
  {
   "cell_type": "code",
   "execution_count": 5,
   "id": "c19b720f",
   "metadata": {},
   "outputs": [
    {
     "data": {
      "text/plain": [
       "pred (generic function with 1 method)"
      ]
     },
     "execution_count": 5,
     "metadata": {},
     "output_type": "execute_result"
    }
   ],
   "source": [
    "#plot the data and return the figure\n",
    "function plot_data(X, Y)\n",
    "    _,N = size(X)\n",
    "    fig = plot(xticks=0:0.2:1, xlim=[0,1], yticks=0:0.2:1, ylim=[0,1], aspect_ratio=:equal, title=\"data\", legend=false)\n",
    "    for k in 1:N\n",
    "        if Y[k]==1\n",
    "            plot!([X[1,k]], [X[2,k]], st=:scatter, markershape=:circle, markersize=10, color=\"red\")\n",
    "        else\n",
    "            plot!([X[1,k]], [X[2,k]], st=:scatter, markershape=:x, markersize=10, color=\"blue\")\n",
    "        end\n",
    "    end\n",
    "    return fig\n",
    "end\n",
    "\n",
    "function plot_data(fig, X, Y)\n",
    "    _,N = size(X)\n",
    "    fig = plot!(xticks=0:0.2:1, xlim=[0,1], yticks=0:0.2:1, ylim=[0,1], aspect_ratio=:equal, legend=false)\n",
    "    for k in 1:N\n",
    "        if Y[k]==1\n",
    "            plot!([X[1,k]], [X[2,k]], st=:scatter, markershape=:circle, markersize=10, color=\"red\")\n",
    "        else\n",
    "            plot!([X[1,k]], [X[2,k]], st=:scatter, markershape=:x, markersize=10, color=\"blue\")\n",
    "        end\n",
    "    end\n",
    "    return fig\n",
    "end\n",
    "\n",
    "#prediction\n",
    "function pred(x₁,x₂,nn)\n",
    "    L = length(nn.n_hiddens)\n",
    "    forward!([x₁,x₂],nn,L)\n",
    "    return nn.layers[L-1].avec[1]>nn.layers[L-1].avec[2] ? 0 : 1\n",
    "end"
   ]
  },
  {
   "cell_type": "code",
   "execution_count": 6,
   "id": "a10cdf4b",
   "metadata": {},
   "outputs": [
    {
     "data": {
      "image/png": "[encoded data removed]",
      "text/plain": [
       "PyPlot.Figure(PyObject <Figure size 600x400 with 1 Axes>)"
      ]
     },
     "metadata": {},
     "output_type": "display_data"
    }
   ],
   "source": [
    "#create the data\n",
    "N = 16\n",
    "X = [\n",
    "    0.11 0.30 0.35 0.32 0.50 0.71 0.78 0.92  0.10 0.15 0.40 0.50 0.60 0.70 0.80 0.90\n",
    "    0.10 0.93 0.54 0.33 0.19 0.78 0.51 0.32  0.80 0.40 0.75 0.95 0.50 0.30 0.10 0.80\n",
    "]\n",
    "labels = vcat(zeros(div(N,2)), ones(div(N,2)))\n",
    "Y = zeros(2,N)\n",
    "for n in 1:N\n",
    "    if labels[n] == 0.0\n",
    "        Y[1,n] = 1\n",
    "    else\n",
    "        Y[2,n] = 1\n",
    "    end\n",
    "end\n",
    "data = (X=X,Y=Y,N=N)\n",
    "\n",
    "#plot the data\n",
    "fig1 = plot_data(X,labels)\n",
    "savefig(fig1, \"figs-DL/fig1.png\")"
   ]
  },
  {
   "cell_type": "code",
   "execution_count": 7,
   "id": "79be4480",
   "metadata": {},
   "outputs": [
    {
     "name": "stderr",
     "output_type": "stream",
     "text": [
      "\u001b[32mProgress: 100%|█████████████████████████████████████████| Time: 0:00:04\u001b[39m\n"
     ]
    },
    {
     "data": {
      "image/png": "[encoded data removed]",
      "text/plain": [
       "PyPlot.Figure(PyObject <Figure size 1000x400 with 3 Axes>)"
      ]
     },
     "metadata": {},
     "output_type": "display_data"
    },
    {
     "name": "stdout",
     "output_type": "stream",
     "text": [
      "  6.461079 seconds (39.24 M allocations: 4.130 GiB, 13.69% gc time, 38.94% compilation time)\n"
     ]
    }
   ],
   "source": [
    "#set the random seed\n",
    "Random.seed!(42)\n",
    "\n",
    "#initialize the neural network\n",
    "n_hiddens = [2,10,10,2]\n",
    "nn = init_nn(n_hiddens)\n",
    "\n",
    "#training neural entwork\n",
    "ε = 0.1\n",
    "n_train = Int(1e5)\n",
    "@time costs = my_train(data, nn, n_train, ε)\n",
    "\n",
    "#prediction\n",
    "p1 = plot(0:0.1:1, 0:0.1:1, (x₁,x₂)->pred(x₁,x₂,nn), st=:heatmap, c=cgrad(:coolwarm), alpha=0.6, clim=(0,1))\n",
    "p1 = plot_data(p1,X,labels)\n",
    "p2 = plot(costs,xlabel=\"iter\",ylabel=\"costs\",title=\"costs\",xscale=:log10,yscale=:log10,label=false)\n",
    "fig2 = plot(p1,p2,size=(1000,400))\n",
    "savefig(fig2, \"figs-DL/fig2.png\")"
   ]
  },
  {
   "cell_type": "markdown",
   "id": "1786516f",
   "metadata": {},
   "source": [
    "## 2. Using Flux"
   ]
  },
  {
   "cell_type": "markdown",
   "id": "a576148e",
   "metadata": {},
   "source": [
    "### 2-1. How to use `Flux`"
   ]
  },
  {
   "cell_type": "code",
   "execution_count": 8,
   "id": "712e72f7",
   "metadata": {},
   "outputs": [
    {
     "data": {
      "text/plain": [
       "Chain(\n",
       "  Dense(2, 10, sigmoid),                \u001b[90m# 30 parameters\u001b[39m\n",
       "  Dense(10, 10, sigmoid),               \u001b[90m# 110 parameters\u001b[39m\n",
       "  Dense(10, 2, sigmoid),                \u001b[90m# 22 parameters\u001b[39m\n",
       ")\u001b[90m                   # Total: 6 arrays, \u001b[39m162 parameters, 1.008 KiB."
      ]
     },
     "execution_count": 8,
     "metadata": {},
     "output_type": "execute_result"
    }
   ],
   "source": [
    "#define and initialize neural network\n",
    "nn = Chain(\n",
    "        Dense(2,10,sigmoid),\n",
    "        Dense(10,10,sigmoid),\n",
    "        Dense(10,2,sigmoid)\n",
    "        )"
   ]
  },
  {
   "cell_type": "code",
   "execution_count": 9,
   "id": "e97daf16",
   "metadata": {},
   "outputs": [
    {
     "data": {
      "text/plain": [
       "cost (generic function with 2 methods)"
      ]
     },
     "execution_count": 9,
     "metadata": {},
     "output_type": "execute_result"
    }
   ],
   "source": [
    "#define cost function\n",
    "function cost(x,y,nn)\n",
    "    norm(y-nn(x))^2\n",
    "end"
   ]
  },
  {
   "cell_type": "code",
   "execution_count": 10,
   "id": "31dadce7",
   "metadata": {},
   "outputs": [
    {
     "data": {
      "text/plain": [
       "8.537090036648486"
      ]
     },
     "execution_count": 10,
     "metadata": {},
     "output_type": "execute_result"
    }
   ],
   "source": [
    "#cost before training\n",
    "sum([cost(X[:,n],Y[:,n],nn) for n in 1:N])"
   ]
  },
  {
   "cell_type": "code",
   "execution_count": 11,
   "id": "1c77ce9e",
   "metadata": {},
   "outputs": [
    {
     "data": {
      "text/plain": [
       "ADAM(0.001, (0.9, 0.999), 1.0e-8, IdDict{Any, Any}())"
      ]
     },
     "execution_count": 11,
     "metadata": {},
     "output_type": "execute_result"
    }
   ],
   "source": [
    "#define optimizer\n",
    "opt = ADAM()"
   ]
  },
  {
   "cell_type": "code",
   "execution_count": 12,
   "id": "373ae7d5",
   "metadata": {},
   "outputs": [],
   "source": [
    "#training neural network\n",
    "Flux.train!((x,y)->cost(x,y,nn),params(nn),[(X,Y)],opt)"
   ]
  },
  {
   "cell_type": "code",
   "execution_count": 13,
   "id": "2ff1e3c9",
   "metadata": {},
   "outputs": [
    {
     "data": {
      "text/plain": [
       "8.520818259676888"
      ]
     },
     "execution_count": 13,
     "metadata": {},
     "output_type": "execute_result"
    }
   ],
   "source": [
    "#cost after training\n",
    "sum([cost(X[:,n],Y[:,n],nn) for n in 1:N])"
   ]
  },
  {
   "cell_type": "markdown",
   "id": "82ede9cb",
   "metadata": {},
   "source": [
    "### 2-2. Train the neural network"
   ]
  },
  {
   "cell_type": "code",
   "execution_count": 14,
   "id": "53da04b7",
   "metadata": {},
   "outputs": [
    {
     "name": "stderr",
     "output_type": "stream",
     "text": [
      "\u001b[32mProgress: 100%|█████████████████████████████████████████| Time: 0:00:18\u001b[39m\n"
     ]
    },
    {
     "data": {
      "image/png": "[encoded data removed]",
      "text/plain": [
       "PyPlot.Figure(PyObject <Figure size 1000x400 with 3 Axes>)"
      ]
     },
     "metadata": {},
     "output_type": "display_data"
    },
    {
     "name": "stdout",
     "output_type": "stream",
     "text": [
      " 19.181033 seconds (63.54 M allocations: 7.381 GiB, 9.62% gc time, 2.46% compilation time)\n"
     ]
    }
   ],
   "source": [
    "#set the random seed\n",
    "Random.seed!(42)\n",
    "\n",
    "#initialize the model\n",
    "nn = Chain(\n",
    "        Dense(2,10,sigmoid),\n",
    "        Dense(10,10,sigmoid),\n",
    "        Dense(10,2,sigmoid)\n",
    "        )\n",
    "\n",
    "#cost function \n",
    "function cost(x,y,nn)\n",
    "    norm(y-nn(x))^2\n",
    "end\n",
    "\n",
    "#training\n",
    "function my_train(data,nn,n_train)\n",
    "    @unpack X,Y,N = data\n",
    "    costs = zeros(n_train)\n",
    "    opt = ADAM(0.1)\n",
    "    @showprogress for k in 1:n_train\n",
    "        Flux.train!((x,y)->cost(x,y,nn),params(nn),[(X,Y)],opt)\n",
    "        costs[k] = mean([cost(X[:,n],Y[:,n],nn) for n in 1:N])\n",
    "    end\n",
    "    return costs\n",
    "end\n",
    "\n",
    "#train the model\n",
    "n_train = Int(1e5)\n",
    "@time costs = my_train(data,nn,n_train)\n",
    "\n",
    "#prediction \n",
    "function pred(x₁,x₂,nn)\n",
    "    tmp = nn([x₁,x₂])\n",
    "    return tmp[1]>tmp[2] ? 0 : 1\n",
    "end\n",
    "\n",
    "#visualize\n",
    "p1 = plot(0:0.02:1, 0:0.02:1, (x₁,x₂)->pred(x₁,x₂,nn), st=:heatmap, c=cgrad(:coolwarm), alpha=0.6, clim=(0,1))\n",
    "p1 = plot_data(p1,X,labels)\n",
    "p2 = plot(costs,xlabel=\"iter\",ylabel=\"costs\",title=\"costs\",xscale=:log10,yscale=:log10,label=false)\n",
    "fig3 = plot(p1,p2,size=(1000,400))\n",
    "savefig(fig3, \"figs-DL/fig3.png\")"
   ]
  }
 ],
 "metadata": {
  "kernelspec": {
   "display_name": "Julia 1.6.4",
   "language": "julia",
   "name": "julia-1.6"
  },
  "language_info": {
   "file_extension": ".jl",
   "mimetype": "application/julia",
   "name": "julia",
   "version": "1.6.4"
  }
 },
 "nbformat": 4,
 "nbformat_minor": 5
}
