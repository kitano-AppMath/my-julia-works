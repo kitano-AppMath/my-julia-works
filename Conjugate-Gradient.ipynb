{
 "cells": [
  {
   "cell_type": "markdown",
   "id": "f3e1190f",
   "metadata": {},
   "source": [
    "# Conjugate Gradient Method"
   ]
  },
  {
   "cell_type": "markdown",
   "id": "b6f81017",
   "metadata": {},
   "source": [
    "## 0. Initialize"
   ]
  },
  {
   "cell_type": "code",
   "execution_count": 1,
   "id": "a85b3591",
   "metadata": {},
   "outputs": [],
   "source": [
    "using LinearAlgebra\n",
    "using SparseArrays\n",
    "using Random\n",
    "using Plots\n",
    "pyplot()\n",
    "\n",
    "using ProgressMeter\n",
    "using BenchmarkTools"
   ]
  },
  {
   "cell_type": "markdown",
   "id": "2d8bcdb7",
   "metadata": {},
   "source": [
    "## 1. Define functions"
   ]
  },
  {
   "cell_type": "code",
   "execution_count": 2,
   "id": "e04ff164",
   "metadata": {},
   "outputs": [
    {
     "data": {
      "text/plain": [
       "lu_solver (generic function with 1 method)"
      ]
     },
     "execution_count": 2,
     "metadata": {},
     "output_type": "execute_result"
    }
   ],
   "source": [
    "function my_CG(A, b, x₀, max_iter, ε)\n",
    "    #initialize\n",
    "    r = b - A(x₀)\n",
    "    norm_r_new = norm(r)\n",
    "    norm_r_old = norm_r_new\n",
    "    p = copy(r)\n",
    "    Ap = A(p)\n",
    "    x = copy(x₀)\n",
    "    norm_b = norm(b)\n",
    "    \n",
    "    #save residual norm\n",
    "    history = zeros(max_iter)\n",
    "    history[1] = norm_r_new / norm_b\n",
    "    \n",
    "    if norm_r_new < ε * norm_b\n",
    "        return (x=x, history=history[1:1])\n",
    "    end\n",
    "    \n",
    "    for k in 2:max_iter\n",
    "        α = norm_r_old^2 / dot(p, Ap)\n",
    "        x = x + α * p\n",
    "        r = r - α * Ap\n",
    "        norm_r_new = norm(r)\n",
    "        history[k] = norm_r_new/norm_b\n",
    "        \n",
    "        if norm_r_new < ε * norm_b\n",
    "            return (x=x, history=history[1:k])\n",
    "        end\n",
    "        \n",
    "        β = norm_r_new^2 / norm_r_old^2\n",
    "        p = r + β * p\n",
    "        Ap = A(p)\n",
    "        norm_r_old = norm_r_new\n",
    "    end\n",
    "\n",
    "    res = (x=x, history=history)\n",
    "    return res \n",
    "end\n",
    "\n",
    "function spmul(M, v)\n",
    "    n = size(M, 1)\n",
    "    Mv = zeros(n)\n",
    "    for j in 1:n\n",
    "        nz_begin = M.colptr[j]\n",
    "        nz_end = M.colptr[j+1]-1\n",
    "        for nz_idx in nz_begin:nz_end\n",
    "            Mv[M.rowval[nz_idx]] += M.nzval[nz_idx] * v[j]\n",
    "        end\n",
    "    end\n",
    "    return Mv \n",
    "end\n",
    "\n",
    "#pivoting a matrix\n",
    "function pivot!(A, b, n)\n",
    "    #pivot\n",
    "    tmp = zeros(n)\n",
    "    for i in 1:n\n",
    "        if A[i,i]==0\n",
    "            j = argmax(A[:,i])\n",
    "            tmp = A[i,:]\n",
    "            A[i,:] = A[j,:]\n",
    "            A[j,:] = tmp\n",
    "            b[i], b[j] = b[j], b[i]\n",
    "        end\n",
    "    end\n",
    "end\n",
    "\n",
    "#LU factorization\n",
    "function my_lu!(A)\n",
    "    n = size(A, 1)\n",
    "    L = zeros(n, n)\n",
    "    pivot!(A, b, n)\n",
    "    \n",
    "    #forward elimination\n",
    "    for k in 1:n-1\n",
    "        for i in k+1:n\n",
    "            L[i,k] = A[i,k] / A[k,k]\n",
    "            for j in k+1:n\n",
    "               A[i,j] = A[i,j] - L[i,k]*A[k,j]\n",
    "            end\n",
    "            A[i,k] = 0\n",
    "        end\n",
    "        L[k,k] = 1\n",
    "    end\n",
    "    L[n,n] = 1\n",
    "    return L\n",
    "end\n",
    "\n",
    "function my_lu(A)\n",
    "    A_copy = copy(A)\n",
    "    L = my_lu!(A_copy)\n",
    "    return L, A_copy\n",
    "end\n",
    "\n",
    "#forward elimination\n",
    "function forward(L, b, n)\n",
    "    y = zeros(n)\n",
    "    y[1] = b[1]\n",
    "    for k in 2:n\n",
    "        y[k] = b[k] - dot(L[k,1:k-1], y[1:k-1])\n",
    "    end\n",
    "    return y\n",
    "end\n",
    "\n",
    "#backward substitution\n",
    "function backward(U, y, n)\n",
    "    x = zeros(n)\n",
    "    x[n] = y[n] / U[n,n]\n",
    "    for k in reverse(1:n-1)\n",
    "        x[k] = (y[k] - dot(U[k,k+1:n], x[k+1:n])) / U[k,k]\n",
    "    end\n",
    "    return x\n",
    "end\n",
    "\n",
    "function lu_solver(A, b)\n",
    "    n = size(b, 1)\n",
    "    L, U =　my_lu(A)\n",
    "    y = forward(L, b, n)\n",
    "    x = backward(U, y, n)\n",
    "    return x\n",
    "end"
   ]
  },
  {
   "cell_type": "markdown",
   "id": "1f931889",
   "metadata": {},
   "source": [
    "## 2. Example"
   ]
  },
  {
   "cell_type": "code",
   "execution_count": 3,
   "id": "bfc19e8e",
   "metadata": {},
   "outputs": [],
   "source": [
    "\"\"\"\n",
    "    THIS IS A TEST RUN\n",
    "\"\"\"\n",
    "#create a linear equation system\n",
    "Random.seed!(42)\n",
    "n = 10\n",
    "M = randn(n, n)\n",
    "A = M' * M\n",
    "x_true = rand(-5:5, n)\n",
    "b = A*x_true\n",
    "\n",
    "#LU\n",
    "x_lu = lu_solver(Matrix(A), b)\n",
    "\n",
    "#cojugate gradient method\n",
    "x₀ = zeros(n)\n",
    "max_iter = 10*n\n",
    "ε = 1e-8\n",
    "res_cg = my_CG(x->A*x, b, x₀, max_iter, ε);"
   ]
  },
  {
   "cell_type": "code",
   "execution_count": 4,
   "id": "b8708d9f",
   "metadata": {},
   "outputs": [
    {
     "name": "stdout",
     "output_type": "stream",
     "text": [
      " 18.855748 seconds (8.01 k allocations: 153.766 MiB, 0.05% gc time)\n",
      "relative error = 1.7497094381496745e-10\n",
      "  2.735443 seconds (124.71 k allocations: 389.493 MiB, 11.08% gc time, 3.50% compilation time)\n",
      "relative error = 0.002502428981890363\n"
     ]
    },
    {
     "data": {
      "image/png": "[encoded data removed]",
      "text/plain": [
       "PyPlot.Figure(PyObject <Figure size 600x400 with 1 Axes>)"
      ]
     },
     "metadata": {},
     "output_type": "display_data"
    },
    {
     "data": {
      "text/plain": [
       "\"/Users/kitanotomoya/Documents/julia/ML/ブログ/Conjugate-Gradient/fig1.png\""
      ]
     },
     "execution_count": 4,
     "metadata": {},
     "output_type": "execute_result"
    }
   ],
   "source": [
    "#create a linear equation system\n",
    "Random.seed!(42)\n",
    "n = 2000\n",
    "M = randn(n, n)\n",
    "A = M' * M\n",
    "x_true = rand(-5:5, n)\n",
    "b = A*x_true\n",
    "\n",
    "#LU\n",
    "@time x_lu = lu_solver(Matrix(A), b)\n",
    "println(\"relative error = $(norm(x_lu - x_true)/norm(x_true))\")\n",
    "\n",
    "#cojugate gradient method\n",
    "x₀ = zeros(n)\n",
    "max_iter = 10*n\n",
    "ε = 1e-8\n",
    "@time res_cg = my_CG(x->A*x, b, x₀, max_iter, ε)\n",
    "println(\"relative error = $(norm(res_cg.x - x_true)/norm(x_true))\")\n",
    "\n",
    "fig1 = plot(res_cg.history, label=false, xlabel=\"iter\", ylabel=\"r_norm/b_norm\", yscale=:log10)\n",
    "savefig(fig1, \"Conjugate-Gradient/fig1.png\")"
   ]
  },
  {
   "cell_type": "code",
   "execution_count": 5,
   "id": "206736e1",
   "metadata": {},
   "outputs": [
    {
     "name": "stdout",
     "output_type": "stream",
     "text": [
      " 19.074255 seconds (107.17 k allocations: 159.258 MiB, 0.05% gc time, 0.20% compilation time)\n",
      "relative error = 4.306053477569902e-15\n",
      "  0.158758 seconds (154.97 k allocations: 150.224 MiB, 12.79% gc time, 45.58% compilation time)\n",
      "relative error = 1.0021751454243622e-8\n"
     ]
    },
    {
     "data": {
      "image/png": "[encoded data removed]",
      "text/plain": [
       "PyPlot.Figure(PyObject <Figure size 600x400 with 1 Axes>)"
      ]
     },
     "metadata": {},
     "output_type": "display_data"
    },
    {
     "data": {
      "text/plain": [
       "\"/Users/kitanotomoya/Documents/julia/ML/ブログ/Conjugate-Gradient/fig2.png\""
      ]
     },
     "execution_count": 5,
     "metadata": {},
     "output_type": "execute_result"
    }
   ],
   "source": [
    "#create a linear equation system\n",
    "Random.seed!(42)\n",
    "n = 2000\n",
    "A = spdiagm(-2=>ones(n-2), -1=>2*ones(n-1), 0=>-ones(n), 1=>2*ones(n-1), 2=>ones(n-2))\n",
    "x_true = rand(-10:10, n)\n",
    "b = A*x_true\n",
    "\n",
    "#LU\n",
    "@time x_lu = lu_solver(Matrix(A), b)\n",
    "println(\"relative error = $(norm(x_lu - x_true)/norm(x_true))\")\n",
    "\n",
    "#cojugate gradient method\n",
    "x₀ = zeros(n)\n",
    "max_iter = 10*n\n",
    "ε = 1e-8\n",
    "@time res_cg = my_CG(x->spmul(A, x), b, x₀, max_iter, ε)\n",
    "println(\"relative error = $(norm(res_cg.x - x_true)/norm(x_true))\")\n",
    "\n",
    "fig2 = plot(res_cg.history, label=false, xlabel=\"iter\", ylabel=\"r_norm/b_norm\", yscale=:log10)\n",
    "savefig(fig2, \"Conjugate-Gradient/fig2.png\")"
   ]
  }
 ],
 "metadata": {
  "kernelspec": {
   "display_name": "Julia 1.6.5",
   "language": "julia",
   "name": "julia-1.6"
  },
  "language_info": {
   "file_extension": ".jl",
   "mimetype": "application/julia",
   "name": "julia",
   "version": "1.6.5"
  }
 },
 "nbformat": 4,
 "nbformat_minor": 5
}
