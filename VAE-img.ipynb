{
 "cells": [
  {
   "cell_type": "markdown",
   "id": "461f85e3",
   "metadata": {},
   "source": [
    "# Variational Autoencoder"
   ]
  },
  {
   "cell_type": "code",
   "execution_count": 1,
   "id": "654380ce",
   "metadata": {},
   "outputs": [],
   "source": [
    "#mathematics\n",
    "using LinearAlgebra\n",
    "using ForwardDiff\n",
    "\n",
    "#datasets\n",
    "using MLDatasets\n",
    "\n",
    "#statistics\n",
    "using Distributions\n",
    "using Statistics\n",
    "using Random\n",
    "using StatsBase\n",
    "\n",
    "#visualize\n",
    "using Plots\n",
    "pyplot()\n",
    "\n",
    "#macros\n",
    "using ProgressMeter\n",
    "using UnPack"
   ]
  },
  {
   "cell_type": "markdown",
   "id": "8b3f75e8",
   "metadata": {},
   "source": [
    "## 1. Prepare data"
   ]
  },
  {
   "cell_type": "code",
   "execution_count": 22,
   "id": "7a8e26f6",
   "metadata": {},
   "outputs": [
    {
     "data": {
      "text/plain": [
       "(X = [0.0 0.0 … 0.0 0.0; 0.0 0.0 … 0.0 0.0; … ; 0.0 0.0 … 0.0 0.0; 0.0 0.0 … 0.0 0.0], Dx = 784, N = 100)"
      ]
     },
     "execution_count": 22,
     "metadata": {},
     "output_type": "execute_result"
    }
   ],
   "source": [
    "#reshape images\n",
    "function vecX(x)\n",
    "    d1,d2,N = size(x)\n",
    "    X = zeros(d1*d2, N)\n",
    "    for n in 1:N\n",
    "        X[:,n] = x[:,:,n][:]\n",
    "    end\n",
    "    return X\n",
    "end\n",
    "\n",
    "#get the train data\n",
    "train_x, train_y = MNIST.traindata()\n",
    "X = vecX(train_x)\n",
    "\n",
    "#images whose labels are 0 or 1\n",
    "idx0or1 = Bool.((train_y.==0) + (train_y.==1))\n",
    "X = X[:,idx0or1]\n",
    "Y = train_y[idx0or1]\n",
    "X = X[:,1:1000]\n",
    "Y = Y[1:1000]\n",
    "\n",
    "#data\n",
    "Dx, N = size(X)\n",
    "data = (X=X, Dx=Dx, N=N)"
   ]
  },
  {
   "cell_type": "code",
   "execution_count": 23,
   "id": "fc1f1695",
   "metadata": {},
   "outputs": [
    {
     "data": {
      "text/plain": [
       "nn (generic function with 1 method)"
      ]
     },
     "execution_count": 23,
     "metadata": {},
     "output_type": "execute_result"
    }
   ],
   "source": [
    "#initialize the parameter\n",
    "function init_params(st)\n",
    "    @unpack  DI, DO, DM = st\n",
    "    W₂ = randn(DM, DI)\n",
    "    W₃ = randn(DO, DM)\n",
    "    b₂ = zeros(DM)\n",
    "    b₃ = zeros(DO)\n",
    "    return W₂, W₃, b₂, b₃\n",
    "end\n",
    "\n",
    "#stick the weights and biases to a large matrix\n",
    "function stick_params(W₂, W₃, b₂, b₃, Dx)\n",
    "    tmp1 = vcat(b₂', W₂')\n",
    "    tmp2 = hcat(tmp1, zeros(Dx+1))\n",
    "    tmp3 = hcat(W₃, b₃)\n",
    "    return vcat(tmp2, tmp3)\n",
    "end\n",
    "\n",
    "#devide the paramters vector to weights and biases\n",
    "function reshape_params(wvec, st)\n",
    "    @unpack  DI, DO, DM = st\n",
    "    W = reshape(wvec, (DI+DO+1, DM+1))\n",
    "    W₂ = view(W, 2:DI+1, 1:DM)'\n",
    "    W₃ = view(W, DI+2:DI+DO+1, 1:DM)\n",
    "    b₂ = view(W, 1, 1:DM)\n",
    "    b₃ = view(W, DI+2:DI+DO+1, DM+1)\n",
    "    return W₂, W₃, b₂, b₃\n",
    "end \n",
    "\n",
    "#Neural Network\n",
    "function nn(x, wvec, st)\n",
    "   @unpack  DI, DO, DM = st\n",
    "    W₂, W₃, b₂, b₃ = reshape_params(wvec, st)\n",
    "    return W₃*tanh.(W₂*x+b₂) + b₃\n",
    "end"
   ]
  },
  {
   "cell_type": "code",
   "execution_count": 25,
   "id": "38f55738",
   "metadata": {},
   "outputs": [
    {
     "data": {
      "text/plain": [
       "myVI (generic function with 1 method)"
      ]
     },
     "execution_count": 25,
     "metadata": {},
     "output_type": "execute_result"
    }
   ],
   "source": [
    "#encoder and decoder\n",
    "Φ(zn, wvec, stΦ) = nn(zn, wvec, stΦ)\n",
    "Ψ(xn, ηvec, stΨ) = nn(xn, ηvec, stΨ)\n",
    "\n",
    "#mean and logstd, std\n",
    "function mean_and_logstd(vecn, pvec, D, st)\n",
    "    tmp = nn(vecn, pvec, st)\n",
    "    @inbounds tmp[1:D], tmp[D+1:end]\n",
    "end\n",
    "\n",
    "function mean_and_std(vecn, pvec, D, st)\n",
    "    mvec, logsvec = mean_and_logstd(vecn, pvec, D, st)\n",
    "    mvec, exp.(logsvec)\n",
    "end\n",
    "\n",
    "#used for reparameterization trick of zn\n",
    "function h(ϵvec, ηvec, xn, Dz, stΨ)\n",
    "    mvec, svec = mean_and_std(xn, ηvec, Dz, stΨ)\n",
    "    mvec + svec .* ϵvec\n",
    "end\n",
    "\n",
    "#logpmodel\n",
    "function logpmodel(xn, zn, wvec, stΦ)\n",
    "    Dx = length(xn)\n",
    "    mvec, svec = mean_and_std(zn, wvec, Dx, stΦ)\n",
    "    logpdf(MvNormal(mvec, svec), xn)\n",
    "end\n",
    "logpmodel(xn, ηvec, wvec, ϵvec, Dz, stΦ, stΨ) = logpmodel(xn, h(ϵvec, ηvec, xn, Dz, stΨ), wvec, stΦ)\n",
    "\n",
    "#used for calculation of ELBO\n",
    "function f(xn, ηvec, Dz, stΨ)\n",
    "    mvec, logsvec = mean_and_logstd(xn, ηvec, Dz, stΨ)\n",
    "    Dz/2 + sum(logsvec) - norm(mvec)^2/2 - norm(exp.(logsvec))^2/2\n",
    "end\n",
    "\n",
    "#ELBO L\n",
    "function ELBO(X, ηvec, wvec, ϵsamps, N, Dz, S, stΦ, stΨ)\n",
    "    logpmodels = zeros(S)\n",
    "    sumvec = zeros(N)\n",
    "    @simd for n in 1:N\n",
    "        for s in 1:S\n",
    "            @inbounds logpmodels[s] = logpmodel(X[:,n], ηvec, wvec, ϵsamps[s], Dz, stΦ, stΨ)\n",
    "        end\n",
    "        @inbounds sumvec[n] = mean(logpmodels) + f(X[:,n], ηvec, Dz, stΨ)\n",
    "    end\n",
    "    sum(sumvec)\n",
    "end\n",
    "\n",
    "#approximatio of ELBO Ln\n",
    "ELBOn(xn,ηvec,wvec,ϵvec,Dz,stΦ,stΨ) = logpmodel(xn,ηvec,wvec,ϵvec,Dz,stΦ,stΨ) + f(xn,ηvec,Dz,stΨ)\n",
    "\n",
    "#gradient of ELBO w.r.t w and η\n",
    "function ∇wLn(X, minibatch_size, Midx, N, ηvec, wvec, ϵsamp, Dz, stΦ, stΨ)\n",
    "    ∇wLnvec = zeros(dw, minibatch_size)\n",
    "    for m in 1:minibatch_size\n",
    "        @inbounds ∇wLnvec[:,m] =  ForwardDiff.gradient(vec->ELBOn(X[:,Midx[m]],ηvec,vec,ϵsamp,Dz,stΦ,stΨ), wvec)\n",
    "    end\n",
    "    N*mean(∇wLnvec, dims=2)\n",
    "end\n",
    "\n",
    "function ∇ηLn(X, minibatch_size, Midx, N, ηvec, wvec, ϵsamp, Dz, stΦ, stΨ)\n",
    "    ∇ηLnvec = zeros(dη, minibatch_size)\n",
    "    for m in 1:minibatch_size\n",
    "        @inbounds ∇ηLnvec[:,m] =  ForwardDiff.gradient(vec->ELBOn(X[:,Midx[m]],vec,wvec,ϵsamp,Dz,stΦ,stΨ), ηvec)\n",
    "    end\n",
    "    N*mean(∇ηLnvec, dims=2)\n",
    "end    \n",
    "\n",
    "#variational infernce\n",
    "function myVI(data, model_params, n_train, minibatch_size, α, ϵ)\n",
    "    #initalize and set the parameters\n",
    "    @unpack X,Dx,N = data\n",
    "    @unpack dw,dη,Dz,stΦ,stΨ,wvec₀,ηvec₀ = model_params\n",
    "    wvec = wvec₀\n",
    "    ηvec = ηvec₀\n",
    "    \n",
    "    #minibatch\n",
    "    Midx = zeros(minibatch_size)\n",
    "    \n",
    "    #ELBO interval\n",
    "    Δ = 10\n",
    "    \n",
    "    #AdaGrad\n",
    "    δ = 1e-7\n",
    "    gwvec = zeros(dw)\n",
    "    gηvec = zeros(dη)\n",
    "    rwvec = δ * ones(dw)\n",
    "    rηvec = δ * ones(dη)\n",
    "    \n",
    "    #ELBO\n",
    "    S = 100\n",
    "    ϵsamp = rand(MvNormal(zeros(Dz), ones(Dz)))\n",
    "    ϵsamps = rand(MvNormal(zeros(Dz), ones(Dz)), S)\n",
    "    history = zeros(div(n_train, Δ))\n",
    "    @inbounds @showprogress for k in 2:n_train\n",
    "        #choose mini batch\n",
    "        Midx = sample(1:N, minibatch_size, replace=false)\n",
    "        \n",
    "        #update(AdaGrad)\n",
    "        ϵsamp = rand(MvNormal(zeros(Dz), ones(Dz)))\n",
    "        gwvec = ∇wLn(X, minibatch_size, Midx, N, ηvec, wvec, ϵsamp, Dz, stΦ, stΨ)\n",
    "        gηvec = ∇ηLn(X, minibatch_size, Midx, N, ηvec, wvec, ϵsamp, Dz, stΦ, stΨ)\n",
    "        rwvec = rwvec + gwvec .* gwvec\n",
    "        rηvec = rηvec + gηvec .* gηvec\n",
    "        wvec += α * gwvec ./ sqrt.(rwvec)\n",
    "        ηvec += α * gηvec ./ sqrt.(rηvec)\n",
    "        \n",
    "        #calculate ELBO\n",
    "        if k%Δ == 0\n",
    "            ϵsamps = rand(MvNormal(zeros(Dz), ones(Dz)), S)\n",
    "            history[div(k,Δ)] = ELBO(X, ηvec, wvec, ϵsamps, N, Dz, S, stΦ, stΨ)\n",
    "        end\n",
    "    end\n",
    "    return wvec, ηvec, history\n",
    "end"
   ]
  },
  {
   "cell_type": "code",
   "execution_count": 29,
   "id": "1d1d8274",
   "metadata": {},
   "outputs": [
    {
     "name": "stderr",
     "output_type": "stream",
     "text": [
      "\u001b[32mProgress: 100%|█████████████████████████████████████████| Time: 0:23:03\u001b[39m\n"
     ]
    },
    {
     "name": "stdout",
     "output_type": "stream",
     "text": [
      "1383.618389 seconds (112.24 M allocations: 1.626 TiB, 13.07% gc time, 0.01% compilation time)\n"
     ]
    },
    {
     "data": {
      "text/plain": [
       "([-0.31551267641327707; -0.5886711214126009; … ; 0.4532566000813818; 0.2217152222425479], [0.09997152311024865; -0.6400463139999073; … ; -0.09901025026549043; 0.09928335409258114], [-1.4200395062523925e8, -1.1731227339133605e8])"
      ]
     },
     "execution_count": 29,
     "metadata": {},
     "output_type": "execute_result"
    }
   ],
   "source": [
    "#set the random seed\n",
    "Random.seed!(42)\n",
    "\n",
    "#latent dimension\n",
    "Dz = 2\n",
    "\n",
    "#initialize Neural Network (decoder)\n",
    "DΦ = 10\n",
    "stΦ = (DI=Dz, DO=2*Dx, DM=DΦ)\n",
    "WΦ₂, WΦ₃, bΦ₂, bΦ₃ = init_params(stΦ)\n",
    "WΦs = stick_params(WΦ₂, WΦ₃, bΦ₂, bΦ₃, stΦ.DI)\n",
    "wvec₀ = WΦs[:]\n",
    "dw = length(wvec₀)\n",
    "\n",
    "#initialize Neural Network (encoder)\n",
    "DΨ = 10\n",
    "stΨ = (DI=Dx, DO=2*Dz, DM=DΨ)\n",
    "WΨ₂, WΨ₃, bΨ₂, bΨ₃ = init_params(stΨ)\n",
    "WΨs = stick_params(WΨ₂, WΨ₃, bΨ₂, bΨ₃, stΨ.DI)\n",
    "ηvec₀ = WΨs[:]\n",
    "dη = length(ηvec₀)\n",
    "\n",
    "#model parameters\n",
    "model_params = (dw=dw, dη=dη, Dz=Dz, stΦ=stΦ, stΨ=stΨ, wvec₀=wvec₀, ηvec₀=ηvec₀)\n",
    "\n",
    "#variational inference\n",
    "n_train = 100\n",
    "α = 0.1\n",
    "ϵ = 1e-3\n",
    "minibatch_size = 10\n",
    "@time wvec, ηvec, history = myVI(data, model_params, n_train, minibatch_size, α, ϵ)"
   ]
  },
  {
   "cell_type": "code",
   "execution_count": 30,
   "id": "9fc8342b",
   "metadata": {},
   "outputs": [
    {
     "data": {
      "image/png": "[encoded data removed]"
     },
     "execution_count": 30,
     "metadata": {},
     "output_type": "execute_result"
    }
   ],
   "source": [
    "fig1 = plot(history, label=false, marker=:circle)"
   ]
  },
  {
   "cell_type": "code",
   "execution_count": 34,
   "id": "d330b2b1",
   "metadata": {},
   "outputs": [
    {
     "data": {
      "image/png": "[encoded data removed]"
     },
     "execution_count": 34,
     "metadata": {},
     "output_type": "execute_result"
    }
   ],
   "source": [
    "Zs = zeros(Dz, N)\n",
    "for n in 1:N\n",
    "    Zs[:,n] = Ψ(X[:,n], ηvec, stΨ)[1:Dz]\n",
    "end\n",
    "fig2 = plot(Zs[1,:], Zs[2,:], st=:scatter, zcolor=Y, markersize=10, c=palette(:grays), label=false)"
   ]
  },
  {
   "cell_type": "code",
   "execution_count": null,
   "id": "72c4affe",
   "metadata": {},
   "outputs": [],
   "source": []
  }
 ],
 "metadata": {
  "kernelspec": {
   "display_name": "Julia 1.6.0",
   "language": "julia",
   "name": "julia-1.6"
  },
  "language_info": {
   "file_extension": ".jl",
   "mimetype": "application/julia",
   "name": "julia",
   "version": "1.6.0"
  }
 },
 "nbformat": 4,
 "nbformat_minor": 5
}
