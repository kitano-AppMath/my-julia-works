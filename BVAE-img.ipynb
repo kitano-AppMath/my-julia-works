{
 "cells": [
  {
   "cell_type": "markdown",
   "id": "461f85e3",
   "metadata": {},
   "source": [
    "# Variational Autoencoder"
   ]
  },
  {
   "cell_type": "code",
   "execution_count": 1,
   "id": "654380ce",
   "metadata": {},
   "outputs": [
    {
     "data": {
      "text/plain": [
       "1"
      ]
     },
     "execution_count": 1,
     "metadata": {},
     "output_type": "execute_result"
    }
   ],
   "source": [
    "#mathematics\n",
    "using LinearAlgebra\n",
    "using ForwardDiff\n",
    "\n",
    "#datasets\n",
    "using MLDatasets\n",
    "\n",
    "#statistics\n",
    "using Distributions\n",
    "using Statistics\n",
    "using Random\n",
    "using StatsBase\n",
    "\n",
    "#visualize\n",
    "using Plots\n",
    "pyplot()\n",
    "\n",
    "#macros\n",
    "using ProgressMeter\n",
    "using UnPack\n",
    "\n",
    "#threads\n",
    "using Base.Threads\n",
    "nthreads()"
   ]
  },
  {
   "cell_type": "markdown",
   "id": "8b3f75e8",
   "metadata": {},
   "source": [
    "## 1. Prepare data"
   ]
  },
  {
   "cell_type": "code",
   "execution_count": 2,
   "id": "7a8e26f6",
   "metadata": {},
   "outputs": [
    {
     "data": {
      "text/plain": [
       "(X = [0.0 0.0 … 0.0 0.0; 0.0 0.0 … 0.0 0.0; … ; 0.0 0.0 … 0.0 0.0; 0.0 0.0 … 0.0 0.0], Dx = 784, N = 12665)"
      ]
     },
     "execution_count": 2,
     "metadata": {},
     "output_type": "execute_result"
    }
   ],
   "source": [
    "#reshape images\n",
    "function vecX(x)\n",
    "    d1,d2,N = size(x)\n",
    "    X = zeros(d1*d2, N)\n",
    "    for n in 1:N\n",
    "        X[:,n] = x[:,:,n][:]\n",
    "    end\n",
    "    return X\n",
    "end\n",
    "\n",
    "#get the train data\n",
    "train_x, train_y = MNIST.traindata()\n",
    "X = vecX(train_x)\n",
    "\n",
    "#images whose labels are 0 or 1\n",
    "idx0or1 = Bool.((train_y.==0) + (train_y.==1))\n",
    "X = X[:,idx0or1]\n",
    "Y = train_y[idx0or1]\n",
    "\n",
    "#data\n",
    "Dx, N = size(X)\n",
    "data = (X=X, Dx=Dx, N=N)"
   ]
  },
  {
   "cell_type": "code",
   "execution_count": 3,
   "id": "fc1f1695",
   "metadata": {},
   "outputs": [
    {
     "data": {
      "text/plain": [
       "nn (generic function with 1 method)"
      ]
     },
     "execution_count": 3,
     "metadata": {},
     "output_type": "execute_result"
    }
   ],
   "source": [
    "#initialize the parameter\n",
    "function init_params(st)\n",
    "    @unpack  DI, DO, DM = st\n",
    "    W₂ = randn(DM, DI)\n",
    "    W₃ = randn(DO, DM)\n",
    "    b₂ = zeros(DM)\n",
    "    b₃ = zeros(DO)\n",
    "    return W₂, W₃, b₂, b₃\n",
    "end\n",
    "\n",
    "#stick the weights and biases to a large matrix\n",
    "function stick_params(W₂, W₃, b₂, b₃, Dx)\n",
    "    tmp1 = vcat(b₂', W₂')\n",
    "    tmp2 = hcat(tmp1, zeros(Dx+1))\n",
    "    tmp3 = hcat(W₃, b₃)\n",
    "    return vcat(tmp2, tmp3)\n",
    "end\n",
    "\n",
    "#devide the paramters vector to weights and biases\n",
    "function reshape_params(wvec, st)\n",
    "    @unpack  DI, DO, DM = st\n",
    "    W = reshape(wvec, (DI+DO+1, DM+1))\n",
    "    W₂ = view(W, 2:DI+1, 1:DM)'\n",
    "    W₃ = view(W, DI+2:DI+DO+1, 1:DM)\n",
    "    b₂ = view(W, 1, 1:DM)\n",
    "    b₃ = view(W, DI+2:DI+DO+1, DM+1)\n",
    "    return W₂, W₃, b₂, b₃\n",
    "end \n",
    "\n",
    "#Neural Network\n",
    "function nn(x, wvec, st)\n",
    "   @unpack  DI, DO, DM = st\n",
    "    W₂, W₃, b₂, b₃ = reshape_params(wvec, st)\n",
    "    return W₃*tanh.(W₂*x+b₂) + b₃\n",
    "end"
   ]
  },
  {
   "cell_type": "code",
   "execution_count": 26,
   "id": "38f55738",
   "metadata": {},
   "outputs": [
    {
     "data": {
      "text/plain": [
       "myVI (generic function with 1 method)"
      ]
     },
     "execution_count": 26,
     "metadata": {},
     "output_type": "execute_result"
    }
   ],
   "source": [
    "#encoder and decoder\n",
    "Φ(zn, wvec, stΦ) = nn(zn, wvec, stΦ)\n",
    "Ψ(xn, ηvec, stΨ) = nn(xn, ηvec, stΨ)\n",
    "\n",
    "#mean and logstd, std\n",
    "function mean_and_logstd(vecn, pvec, D, st)\n",
    "    tmp = nn(vecn, pvec, st)\n",
    "    @inbounds tmp[1:D], tmp[D+1:end]\n",
    "end\n",
    "\n",
    "function mean_and_std(vecn, pvec, D, st)\n",
    "    mvec, logsvec = mean_and_logstd(vecn, pvec, D, st)\n",
    "    mvec, exp.(logsvec)\n",
    "end\n",
    "\n",
    "#used for reparameterization trick of zn\n",
    "g(ϵvec, θvec, dw) = θvec[1:dw] + exp.(θvec[dw+1:end]) .* ϵvec\n",
    "function h(ϵvec, ηvec, xn, Dz, stΨ)\n",
    "    mvec, svec = mean_and_std(xn, ηvec, Dz, stΨ)\n",
    "    mvec + svec .* ϵvec\n",
    "end\n",
    "\n",
    "#logpmodel\n",
    "function logpmodel(xn, zn, wvec, Dx, stΦ)\n",
    "    mvec, svec = mean_and_std(zn, wvec, Dx, stΦ)\n",
    "    logpdf(MvNormal(mvec, svec), xn)\n",
    "end\n",
    "logpmodel(xn,ηvec,θvec,ϵzvec,ϵwvec,Dx,Dz,dw,stΦ,stΨ) = (\n",
    "    logpmodel(xn,h(ϵzvec,ηvec,xn,Dz,stΨ),g(ϵwvec, θvec, dw),Dx,stΦ)\n",
    ")\n",
    "\n",
    "#used for calculation of ELBO\n",
    "function fn(xn, ηvec, Dz, stΨ)\n",
    "    mvec, logsvec = mean_and_logstd(xn, ηvec, Dz, stΨ)\n",
    "    Dz/2 + sum(logsvec) - norm(mvec)^2/2 - norm(exp.(logsvec))^2/2\n",
    "end\n",
    "f(θvec,λw,dw)=dw/2*(1+log(λw))-λw*(norm(θvec[1:dw])^2+norm(exp.(θvec[dw+1:end]))^2)/2+sum(θvec[dw+1:end])\n",
    "\n",
    "#ELBO\n",
    "function ELBO(X, ηvec, θvec, ϵzsamps, ϵwsamps, λw, N, Dx, Dz, S, stΦ, stΨ)\n",
    "    logpmodels = zeros(S)\n",
    "    sumvec = zeros(N)\n",
    "    for n in 1:N\n",
    "        for s in 1:S\n",
    "            @inbounds logpmodels[s] = logpmodel(X[:,n],ηvec,θvec,ϵzsamps[:,s],ϵwsamps[:,s],Dx,Dz,dw,stΦ,stΨ)\n",
    "        end\n",
    "        @inbounds sumvec[n] = mean(logpmodels) + fn(X[:,n], ηvec, Dz, stΨ)\n",
    "    end\n",
    "    sum(sumvec) + f(θvec,λw,dw)\n",
    "end\n",
    "\n",
    "#approximatio of ELBO Ln\n",
    "ELBOn(xn,ηvec,θvec,ϵzvec,ϵwvec,Dx,Dz,dw,stΦ,stΨ) = (\n",
    "    logpmodel(xn,ηvec,θvec,ϵzvec,ϵwvec,Dx,Dz,dw,stΦ,stΨ) + fn(xn,ηvec,Dz,stΨ)\n",
    ")\n",
    "\n",
    "#gradient of ELBO w.r.t θ and η\n",
    "∇θLn_samp(xm,ηvec,θvec,ϵzsamp,ϵwsamp,Dx,Dz,dw,stΦ,stΨ) = (\n",
    "    ForwardDiff.gradient(vec->ELBOn(xm,ηvec,vec,ϵzsamp,ϵwsamp,Dx,Dz,dw,stΦ,stΨ), θvec)\n",
    ")\n",
    "∇θf(θvec, λw, dw) = ForwardDiff.gradient(vec->f(vec, λw, dw), θvec)\n",
    "function ∇θLn(minibatch, minibatch_size, N, ηvec, θvec, ϵzsamp, ϵwsamp, λw, Dx, Dz, dw, stΦ, stΨ)\n",
    "    ∇θLnvec = zeros(2*dw, minibatch_size)\n",
    "    @threads for m in 1:minibatch_size\n",
    "        @inbounds ∇θLnvec[:,m] = ∇θLn_samp(minibatch[:,m],ηvec,θvec,ϵzsamp,ϵwsamp,Dx,Dz,dw,stΦ,stΨ)\n",
    "    end\n",
    "    N*mean(∇θLnvec, dims=2) + ∇θf(θvec, λw, dw)\n",
    "end\n",
    "\n",
    "∇ηLn_samp(xm,ηvec,θvec,ϵzsamp,ϵwsamp,Dx,Dz,dw,stΦ,stΨ) = (\n",
    "    ForwardDiff.gradient(vec->ELBOn(xm,vec,θvec,ϵzsamp,ϵwsamp,Dx,Dz,dw,stΦ,stΨ), ηvec)\n",
    ")\n",
    "function ∇ηLn(minibatch, minibatch_size, N, ηvec, θvec, ϵzsamp, ϵwsamp, Dx, Dz, dw, stΦ, stΨ)\n",
    "    ∇ηLnvec = zeros(dη, minibatch_size)\n",
    "    @threads for m in 1:minibatch_size\n",
    "        @inbounds ∇ηLnvec[:,m] =  ∇ηLn_samp(minibatch[:,m],ηvec,θvec,ϵzsamp,ϵwsamp,Dx,Dz,dw,stΦ,stΨ)\n",
    "    end\n",
    "    N*mean(∇ηLnvec, dims=2)\n",
    "end   \n",
    "\n",
    "#variational infernce\n",
    "function myVI(data, model_params, n_train, minibatch_size, α)\n",
    "    #initalize and set the parameters\n",
    "    @unpack X,Dx,N = data\n",
    "    @unpack λw,dw,dη,Dz,stΦ,stΨ,ηvec₀ = model_params\n",
    "    θvec = vcat(zeros(dw), ones(dw))\n",
    "    ηvec = ηvec₀\n",
    "    \n",
    "    #minibatch\n",
    "    minibatch = zeros(Dx,minibatch_size)\n",
    "    \n",
    "    #ELBO interval\n",
    "    Δ = 10\n",
    "    \n",
    "    #AdaGrad\n",
    "    δ = 1e-7\n",
    "    gθvec = zeros(2*dw)\n",
    "    gηvec = zeros(dη)\n",
    "    rθvec = δ * ones(2*dw)\n",
    "    rηvec = δ * ones(dη)\n",
    "    \n",
    "    #ELBO\n",
    "    S = 100\n",
    "    ϵzsamp = rand(MvNormal(zeros(Dz), ones(Dz)))\n",
    "    ϵwsamp = rand(MvNormal(zeros(dw), ones(dw)))\n",
    "    ϵzsamps = rand(MvNormal(zeros(Dz), ones(Dz)), S)\n",
    "    ϵwsamps = rand(MvNormal(zeros(dw), ones(dw)), S)\n",
    "    history = zeros(div(n_train, Δ))\n",
    "    @inbounds @showprogress for k in 2:n_train\n",
    "        #choose mini batch\n",
    "        minibatch = X[:,sample(1:N, minibatch_size, replace=false)]\n",
    "        \n",
    "        #update(AdaGrad)\n",
    "        ϵzsamp = rand(MvNormal(zeros(Dz), ones(Dz)))\n",
    "        ϵwsamp = rand(MvNormal(zeros(dw), ones(dw)))\n",
    "        gθvec = ∇θLn(minibatch, minibatch_size, N, ηvec, θvec, ϵzsamp, ϵwsamp, λw, Dx, Dz, dw, stΦ, stΨ)\n",
    "        gηvec = ∇ηLn(minibatch, minibatch_size, N, ηvec, θvec, ϵzsamp, ϵwsamp, Dx, Dz, dw, stΦ, stΨ)\n",
    "        rθvec = rθvec + gθvec .* gθvec\n",
    "        rηvec = rηvec + gηvec .* gηvec\n",
    "        θvec += α * gθvec ./ sqrt.(rθvec)\n",
    "        ηvec += α * gηvec ./ sqrt.(rηvec)\n",
    "        \n",
    "        #calculate ELBO\n",
    "        if k%Δ == 0\n",
    "            ϵzsamps = rand(MvNormal(zeros(Dz), ones(Dz)), S)\n",
    "            ϵwsamps = rand(MvNormal(zeros(dw), ones(dw)), S)\n",
    "            history[div(k,Δ)] = ELBO(X, ηvec, θvec, ϵzsamps, ϵwsamps, λw, N, Dx, Dz, S, stΦ, stΨ)\n",
    "        end\n",
    "    end\n",
    "    return θvec, ηvec, history\n",
    "end"
   ]
  },
  {
   "cell_type": "code",
   "execution_count": 29,
   "id": "1d1d8274",
   "metadata": {
    "scrolled": false
   },
   "outputs": [
    {
     "name": "stdout",
     "output_type": "stream",
     "text": [
      "  7.448080 seconds (113.05 k allocations: 13.106 GiB, 15.40% gc time)\n"
     ]
    },
    {
     "data": {
      "text/plain": [
       "([0.0; 0.0; … ; 1.1; 1.1], [-0.09999999966450178; -0.6011866584471528; … ; -0.1; -0.1], Float64[])"
      ]
     },
     "execution_count": 29,
     "metadata": {},
     "output_type": "execute_result"
    }
   ],
   "source": [
    "#set the random seed\n",
    "Random.seed!(42)\n",
    "\n",
    "#latent dimension\n",
    "Dz = 2\n",
    "\n",
    "#initialize Neural Network (decoder)\n",
    "DΦ = 5\n",
    "stΦ = (DI=Dz, DO=2*Dx, DM=DΦ)\n",
    "WΦ₂, WΦ₃, bΦ₂, bΦ₃ = init_params(stΦ)\n",
    "WΦs = stick_params(WΦ₂, WΦ₃, bΦ₂, bΦ₃, stΦ.DI)\n",
    "wvec₀ = WΦs[:]\n",
    "dw = length(wvec₀)\n",
    "\n",
    "#initialize Neural Network (encoder)\n",
    "DΨ = 5\n",
    "stΨ = (DI=Dx, DO=2*Dz, DM=DΨ)\n",
    "WΨ₂, WΨ₃, bΨ₂, bΨ₃ = init_params(stΨ)\n",
    "WΨs = stick_params(WΨ₂, WΨ₃, bΨ₂, bΨ₃, stΨ.DI)\n",
    "ηvec₀ = WΨs[:]\n",
    "dη = length(ηvec₀)\n",
    "\n",
    "#model parameters\n",
    "λw = 1\n",
    "model_params = (λw=λw, dw=dw, dη=dη, Dz=Dz, stΦ=stΦ, stΨ=stΨ, ηvec₀=ηvec₀)\n",
    "\n",
    "#variational inference\n",
    "n_train = 2\n",
    "α = 0.1\n",
    "minibatch_size = 1\n",
    "@time θvec, ηvec, history = myVI(data, model_params, n_train, minibatch_size, α)"
   ]
  },
  {
   "cell_type": "code",
   "execution_count": 30,
   "id": "9fc8342b",
   "metadata": {},
   "outputs": [
    {
     "data": {
      "image/png": "[encoded data removed]"
     },
     "execution_count": 30,
     "metadata": {},
     "output_type": "execute_result"
    }
   ],
   "source": [
    "fig1 = plot(history, label=false, marker=:circle)"
   ]
  },
  {
   "cell_type": "code",
   "execution_count": 32,
   "id": "d330b2b1",
   "metadata": {},
   "outputs": [
    {
     "data": {
      "image/png": "[encoded data removed]"
     },
     "execution_count": 32,
     "metadata": {},
     "output_type": "execute_result"
    }
   ],
   "source": [
    "Zs = zeros(Dz, N)\n",
    "for n in 1:N\n",
    "    Zs[:,n] = Ψ(X[:,n], ηvec, stΨ)[1:Dz]\n",
    "end\n",
    "fig2 = plot(Zs[1,:], Zs[2,:], st=:scatter, zcolor=Y, markersize=10, markerstrokewidth=0, c=palette(:grays), label=false)"
   ]
  }
 ],
 "metadata": {
  "kernelspec": {
   "display_name": "Julia 1.6.0",
   "language": "julia",
   "name": "julia-1.6"
  },
  "language_info": {
   "file_extension": ".jl",
   "mimetype": "application/julia",
   "name": "julia",
   "version": "1.6.0"
  }
 },
 "nbformat": 4,
 "nbformat_minor": 5
}
