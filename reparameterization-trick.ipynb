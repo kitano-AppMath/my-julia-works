{
 "cells": [
  {
   "cell_type": "markdown",
   "id": "9beb2e86",
   "metadata": {},
   "source": [
    "# Variational Inference"
   ]
  },
  {
   "cell_type": "markdown",
   "id": "fe41adfb",
   "metadata": {},
   "source": [
    "## 0. Initialize"
   ]
  },
  {
   "cell_type": "code",
   "execution_count": 1,
   "id": "b6e28721",
   "metadata": {},
   "outputs": [],
   "source": [
    "#mathematics\n",
    "using ForwardDiff\n",
    "using LinearAlgebra\n",
    "using SpecialFunctions\n",
    "\n",
    "#statistics\n",
    "using Random\n",
    "using Statistics\n",
    "using Distributions\n",
    "\n",
    "#visualize\n",
    "using Plots\n",
    "pyplot()\n",
    "\n",
    "#macros\n",
    "using ProgressMeter\n",
    "using UnPack"
   ]
  },
  {
   "cell_type": "markdown",
   "id": "66f23242",
   "metadata": {},
   "source": [
    "## 1. create data"
   ]
  },
  {
   "cell_type": "code",
   "execution_count": 2,
   "id": "1ef8eda6",
   "metadata": {},
   "outputs": [
    {
     "data": {
      "image/png": "[encoded data removed]",
      "text/plain": [
       "PyPlot.Figure(PyObject <Figure size 600x400 with 1 Axes>)"
      ]
     },
     "metadata": {},
     "output_type": "display_data"
    }
   ],
   "source": [
    "#plot the data and return the figure\n",
    "function plot_data(X, Y)\n",
    "    _,N = size(X)\n",
    "    fig = plot(xticks=0:0.2:1, xlim=[0,1], yticks=0:0.2:1, ylim=[0,1], aspect_ratio=:equal, title=\"data\", legend=false)\n",
    "    for k in 1:N\n",
    "        if Y[k]==1\n",
    "            plot!([X[1,k]], [X[2,k]], st=:scatter, markershape=:circle, markersize=10, color=\"red\")\n",
    "        else\n",
    "            plot!([X[1,k]], [X[2,k]], st=:scatter, markershape=:x, markersize=10, color=\"blue\")\n",
    "        end\n",
    "    end\n",
    "    return fig\n",
    "end\n",
    "\n",
    "function plot_data(fig, X, Y)\n",
    "    _,N = size(X)\n",
    "    fig = plot!(xticks=0:0.2:1, xlim=[0,1], yticks=0:0.2:1, ylim=[0,1], aspect_ratio=:equal, legend=false)\n",
    "    for k in 1:N\n",
    "        if Y[k]==1\n",
    "            plot!([X[1,k]], [X[2,k]], st=:scatter, markershape=:circle, markersize=10, color=\"red\")\n",
    "        else\n",
    "            plot!([X[1,k]], [X[2,k]], st=:scatter, markershape=:x, markersize=10, color=\"blue\")\n",
    "        end\n",
    "    end\n",
    "    return fig\n",
    "end\n",
    "\n",
    "#create the data\n",
    "Random.seed!(46)\n",
    "N = 14\n",
    "X = hcat(rand(Beta(1.1,3), 2, div(N,2)), rand(Beta(1.9,1.1), 2, div(N,2)))\n",
    "Y = vcat(ones(div(N,2)), zeros(div(N,2)))\n",
    "data = (X=X,Y=Y,N=N)\n",
    "\n",
    "#size\n",
    "Random.seed!(42)\n",
    "Dx,N = size(X)\n",
    "Dy = 1\n",
    "D₀ = 5\n",
    "st = (Dx=Dx, Dy=Dy, D₀=D₀)\n",
    "\n",
    "#plot the data\n",
    "fig1 = plot_data(X, Y)\n",
    "savefig(fig1, \"figs-RT/fig1.png\")"
   ]
  },
  {
   "cell_type": "markdown",
   "id": "4dcfcdf3",
   "metadata": {},
   "source": [
    "## 2. variational inference - reparameterization trick"
   ]
  },
  {
   "cell_type": "code",
   "execution_count": 3,
   "id": "f62f46e8",
   "metadata": {},
   "outputs": [
    {
     "data": {
      "text/plain": [
       "myVI (generic function with 1 method)"
      ]
     },
     "execution_count": 3,
     "metadata": {},
     "output_type": "execute_result"
    }
   ],
   "source": [
    "#plot the data and return the figure\n",
    "function plot_data(X, Y)\n",
    "    _,N = size(X)\n",
    "    fig = plot(xticks=0:0.2:1, xlim=[0,1], yticks=0:0.2:1, ylim=[0,1], aspect_ratio=:equal, title=\"data\", legend=false)\n",
    "    for k in 1:N\n",
    "        if Y[k]==1\n",
    "            plot!([X[1,k]], [X[2,k]], st=:scatter, markershape=:circle, markersize=10, color=\"red\")\n",
    "        else\n",
    "            plot!([X[1,k]], [X[2,k]], st=:scatter, markershape=:x, markersize=10, color=\"blue\")\n",
    "        end\n",
    "    end\n",
    "    return fig\n",
    "end\n",
    "\n",
    "function plot_data(fig, X, Y)\n",
    "    _,N = size(X)\n",
    "    fig = plot!(xticks=0:0.2:1, xlim=[0,1], yticks=0:0.2:1, ylim=[0,1], aspect_ratio=:equal, legend=false)\n",
    "    for k in 1:N\n",
    "        if Y[k]==1\n",
    "            plot!([X[1,k]], [X[2,k]], st=:scatter, markershape=:circle, markersize=10, color=\"red\")\n",
    "        else\n",
    "            plot!([X[1,k]], [X[2,k]], st=:scatter, markershape=:x, markersize=10, color=\"blue\")\n",
    "        end\n",
    "    end\n",
    "    return fig\n",
    "end\n",
    "\n",
    "#initialize the parameter\n",
    "function init_params(st)\n",
    "    @unpack  Dx, Dy, D₀ = st\n",
    "    W₂ = rand(D₀, Dx)\n",
    "    W₃ = rand(Dy, D₀)\n",
    "    b₂ = zeros(D₀)\n",
    "    b₃ = zeros(Dy)\n",
    "    return W₂, W₃, b₂, b₃\n",
    "end\n",
    "\n",
    "#stick the weights and biases to a large matrix\n",
    "function stick_params(W₂, W₃, b₂, b₃, Dx)\n",
    "    tmp1 = vcat(b₂', W₂')\n",
    "    tmp2 = hcat(tmp1, zeros(Dx+1))\n",
    "    tmp3 = hcat(W₃, b₃)\n",
    "    return vcat(tmp2, tmp3)\n",
    "end\n",
    "\n",
    "#devide the paramters vector to weights and biases\n",
    "function reshape_params(wvec, st)\n",
    "    @unpack  Dx, Dy, D₀ = st\n",
    "    W = reshape(wvec, (Dx+Dy+1, D₀+1))\n",
    "    W₂ = view(W, 2:Dx+1, 1:D₀)'\n",
    "    W₃ = view(W, Dx+2:Dx+Dy+1, 1:D₀)\n",
    "    b₂ = view(W, 1, 1:D₀)\n",
    "    b₃ = view(W, Dx+2:Dx+Dy+1, D₀+1)\n",
    "    return W₂, W₃, b₂, b₃\n",
    "end \n",
    "\n",
    "#sigmoid function\n",
    "σ(ξ) = 1/(1+exp(-ξ)) \n",
    "\n",
    "#Neural Network\n",
    "function nn(x, wvec, st)\n",
    "    W₂, W₃, b₂, b₃ = reshape_params(wvec, st)\n",
    "    return σ.(W₃*σ.(W₂*x+b₂) + b₃)\n",
    "end\n",
    "\n",
    "#log pdf of prior, model, posterior\n",
    "logpprior(wvec, λw, dw) = logpdf(MvNormal(zeros(dw),1/sqrt(λw)), wvec)\n",
    "logpmodel(y, x, wvec, st) = logpdf(Bernoulli(nn(x,wvec,st)[1]), y)\n",
    "loglik(X, Y, N, wvec, st) = sum([logpmodel(Y[n], X[:,n], wvec, st) for n in 1:N])\n",
    "\n",
    "function logppost(wvec, data, model_params)\n",
    "    @unpack X,Y,N = data\n",
    "    @unpack λw,dw,st = model_params\n",
    "    return loglik(X, Y, N, wvec, st) + logpprior(wvec, λw, dw)\n",
    "end\n",
    "\n",
    "function logppost(wvec, λw, data, model_params)\n",
    "    @unpack X,Y,N = data\n",
    "    @unpack dw,st = model_params\n",
    "    return loglik(X, Y, N, wvec, st) + logpprior(wvec, λw, dw)\n",
    "end\n",
    "\n",
    "#predictive: returns the probability to new data classified to class 1\n",
    "function ppred(x, wsamps, st)\n",
    "    _, n_samps = size(wsamps)\n",
    "    preds = zeros(n_samps)\n",
    "    for j in 1:n_samps\n",
    "        preds[j] = exp(logpmodel(1, x, wsamps[:,j], st))\n",
    "    end\n",
    "    return mean(preds)\n",
    "end\n",
    "\n",
    "#reparameterization\n",
    "g(θvec, ϵvec) = θvec[1:dw] + exp.(θvec[dw+1:end]) .* ϵvec\n",
    "∇θlogpmodel(y,x,θvec,ϵvec,st) = ForwardDiff.gradient(θvec->logpmodel(y, x, g(θvec, ϵvec), st), θvec)\n",
    "\n",
    "#∇θLn(θ)\n",
    "function ∇θLn(x, y, N, ϵsamps, θvec, λw, st)\n",
    "    dw,S = size(ϵsamps)\n",
    "    ∇θLnvecs = zeros(2*dw, S)\n",
    "    for s in 1:S\n",
    "        ∇θLnvecs[:,s] = ∇θlogpmodel(y,x,θvec,ϵsamps[:,s],st)\n",
    "    end\n",
    "    ∇θLnvec = N * mean(∇θLnvecs, dims=2)\n",
    "    for j in 1:dw\n",
    "        ∇θLnvec[j] += -λw*θvec[j]\n",
    "        ∇θLnvec[dw+j] += 1-λw*exp(2*θvec[dw+j])\n",
    "    end\n",
    "    return ∇θLnvec\n",
    "end\n",
    "\n",
    "#calculate ELBO\n",
    "function ELBO(X, Y, N, wsamps, θvec, λw, st)\n",
    "    dw,S = size(wsamps)\n",
    "    logpmodels = zeros(S)\n",
    "    for s in 1:S\n",
    "        for n in 1:N\n",
    "            logpmodels[s] += logpmodel(Y[n], X[:,n], wsamps[:,s], st)\n",
    "        end\n",
    "    end\n",
    "    return mean(logpmodels)-λw*sum(θvec[1:dw].^2)/2-λw*sum(exp.(2*θvec[dw+1:end]))/2+sum(θvec[dw+1:end])+dw/2+dw*log(λw)/2\n",
    "end\n",
    "\n",
    "#variational inference\n",
    "function myVI(data, model_params, α, n_train, tol)\n",
    "    @unpack X,Y,N = data\n",
    "    @unpack λw, dw, st = model_params\n",
    "    θvec = vcat(zeros(dw), ones(dw))\n",
    "    n_samps = 100\n",
    "    wsamps = zeros(dw, n_samps)\n",
    "    history = zeros(n_train)\n",
    "    history[1] = ELBO(X, Y, N, wsamps, θvec, λw, st)\n",
    "    @showprogress for k in 2:n_train\n",
    "        idx = rand(1:N)\n",
    "        x = X[:,idx]\n",
    "        y = Y[idx]\n",
    "        ϵsamps = rand(MvNormal(zeros(dw), ones(dw)), n_samps)\n",
    "        θvec = θvec + α*∇θLn(x, y, N, ϵsamps, θvec, λw, st)/k\n",
    "        history[k] = ELBO(X, Y, N, wsamps, θvec, λw, st)\n",
    "        if abs(history[k]-history[k-1])<tol\n",
    "            return θvec, history[2:k]\n",
    "        end\n",
    "    end\n",
    "    return θvec, history\n",
    "end"
   ]
  },
  {
   "cell_type": "code",
   "execution_count": 4,
   "id": "9dbddc9e",
   "metadata": {},
   "outputs": [
    {
     "name": "stderr",
     "output_type": "stream",
     "text": [
      "\u001b[32mProgress: 100%|█████████████████████████████████████████| Time: 0:00:07\u001b[39m\n"
     ]
    },
    {
     "data": {
      "image/png": "[encoded data removed]",
      "text/plain": [
       "PyPlot.Figure(PyObject <Figure size 600x400 with 2 Axes>)"
      ]
     },
     "metadata": {},
     "output_type": "display_data"
    }
   ],
   "source": [
    "#initialize NN\n",
    "W₂, W₃, b₂, b₃ = init_params(st)\n",
    "Ws = stick_params(W₂, W₃, b₂, b₃, st.Dx)\n",
    "wvec₀ = Ws[:]\n",
    "dw = length(wvec₀)\n",
    "\n",
    "#model params\n",
    "λw = 1e-0\n",
    "model_params = (λw=λw, dw=dw, st=st)\n",
    "\n",
    "#calculate the variational parameters\n",
    "α = 0.5\n",
    "tol = 1e-6\n",
    "n_train = 1000\n",
    "θvec, history = myVI(data, model_params, α, n_train, tol)\n",
    "\n",
    "#posterior sample\n",
    "n_samps = 5000\n",
    "wsamps = rand(MvNormal(θvec[1:dw], exp.(θvec[dw+1:end])), n_samps)\n",
    "\n",
    "#calculate and visualize predictive\n",
    "fig2 = plot(0:0.02:1, 0:0.02:1, (x1,x2)->ppred([x1,x2], wsamps, st), st=:heatmap, c=cgrad(:coolwarm), alpha=0.6, clim=(0,1))\n",
    "fig42 = plot_data(fig2, X, Y)\n",
    "plot!(title=\"prediction: Variational Inference\")\n",
    "savefig(fig2, \"figs-RT/fig2.png\")"
   ]
  },
  {
   "cell_type": "code",
   "execution_count": 5,
   "id": "39a731b4",
   "metadata": {},
   "outputs": [
    {
     "data": {
      "image/png": "[encoded data removed]",
      "text/plain": [
       "PyPlot.Figure(PyObject <Figure size 600x400 with 1 Axes>)"
      ]
     },
     "metadata": {},
     "output_type": "display_data"
    }
   ],
   "source": [
    "fig3 = plot(history, xlabel=\"iter\", title=\"ELBO\", label=false)\n",
    "savefig(fig3, \"figs-RT/fig3.png\")"
   ]
  }
 ],
 "metadata": {
  "kernelspec": {
   "display_name": "Julia 1.6.0",
   "language": "julia",
   "name": "julia-1.6"
  },
  "language_info": {
   "file_extension": ".jl",
   "mimetype": "application/julia",
   "name": "julia",
   "version": "1.6.0"
  }
 },
 "nbformat": 4,
 "nbformat_minor": 5
}
