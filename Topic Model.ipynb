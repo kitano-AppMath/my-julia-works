{
 "cells": [
  {
   "cell_type": "markdown",
   "id": "a01942cc",
   "metadata": {},
   "source": [
    "# Topic Model (Latent Dirichlet Allocation)"
   ]
  },
  {
   "cell_type": "markdown",
   "id": "3aff08b8",
   "metadata": {},
   "source": [
    "## 0. Initialize"
   ]
  },
  {
   "cell_type": "code",
   "execution_count": 1,
   "id": "1684ebe4",
   "metadata": {},
   "outputs": [],
   "source": [
    "#text analysis tools\n",
    "using TextAnalysis\n",
    "using WordTokenizers\n",
    "import TinySegmenter\n",
    "set_tokenizer(TinySegmenter.tokenize)\n",
    "\n",
    "#python\n",
    "using PyCall\n",
    "@pyimport janome.tokenizer as pytk\n",
    "\n",
    "#mathematics\n",
    "using SparseArrays\n",
    "\n",
    "#statistics\n",
    "using Statistics\n",
    "using Distributions\n",
    "\n",
    "#dataframe\n",
    "using DataFrames\n",
    "\n",
    "#visualize\n",
    "using Plots\n",
    "pyplot()\n",
    "\n",
    "#macros\n",
    "using UnPack\n",
    "using ProgressMeter"
   ]
  },
  {
   "cell_type": "markdown",
   "id": "ca80ed6a",
   "metadata": {},
   "source": [
    "## 1. Define functions for preprocessing"
   ]
  },
  {
   "cell_type": "code",
   "execution_count": 2,
   "id": "70d0576d",
   "metadata": {},
   "outputs": [
    {
     "data": {
      "text/plain": [
       "preprocess (generic function with 1 method)"
      ]
     },
     "execution_count": 2,
     "metadata": {},
     "output_type": "execute_result"
    }
   ],
   "source": [
    "#tokenize StringDocument\n",
    "function my_tokenize(text, stop_words)\n",
    "    t = pytk.Tokenizer(wakati=true)\n",
    "    all_tokens = []\n",
    "    for chr in t.tokenize(text)\n",
    "        if chr in stop_words\n",
    "            \n",
    "        else\n",
    "            push!(all_tokens, chr)\n",
    "        end\n",
    "    end\n",
    "    return join(all_tokens, \"\")\n",
    "end\n",
    "\n",
    "#clean StringDocument\n",
    "function clean_text(doc, stop_words)\n",
    "    text = my_tokenize(doc, stop_words)\n",
    "    sd = StringDocument(text)\n",
    "    prepare!(sd, strip_whitespace)\n",
    "    return sd\n",
    "end\n",
    "\n",
    "#load document data\n",
    "function load_docs(file_path)\n",
    "    #stop words\n",
    "    hiragana = [\"$(Char(i))\" for i in range(12353, 12436, step=1)]\n",
    "    hiragana2 = [c1*c2 for c1 in hiragana for c2 in hiragana]\n",
    "    others = [\"まず\", \"次\", \"的\", \"法\", \"よって\", \"したがって\", \"従って\", \"つまり\", \" \", \"-\", \"ー\", \"以下\", \"μ\", \"λ\", \"η\", \"σ\", \"φ\", \"₀\", \"₁\", \"₂\", \"₃\",\"α\",\"β\",\"θ\",\"Φ\"]\n",
    "    stop_words = vcat([hiragana, hiragana2, others]...)\n",
    "    \n",
    "    sd_list = []\n",
    "    for doc in eachline(file_path)\n",
    "        sd = clean_text(doc, stop_words)\n",
    "        push!(sd_list, sd)\n",
    "    end\n",
    "    return sd_list\n",
    "end\n",
    "\n",
    "function create_crps(sd_list)\n",
    "    crps = Corpus(sd_list)\n",
    "    update_lexicon!(crps)\n",
    "    \n",
    "    st = sparse_terms(crps, 0.1)\n",
    "    remove_words!(crps, st)\n",
    "    update_lexicon!(crps)\n",
    "    return crps\n",
    "end\n",
    "\n",
    "function transpose_sparse_mat(mat)\n",
    "    M,N = size(mat)\n",
    "    mat_t = spzeros(N,M)\n",
    "    for m in 1:M\n",
    "        for n in mat[m,:].nzind\n",
    "            mat_t[n,m] = mat[m,n]\n",
    "        end\n",
    "    end\n",
    "    return mat_t\n",
    "end\n",
    "\n",
    "function preprocess(data_path)\n",
    "    sd_list = load_docs(\"data.txt\")\n",
    "    crps = create_crps(sd_list)\n",
    "    DTM = DocumentTermMatrix(crps)\n",
    "    W_dtm = DTM.dtm\n",
    "    W = transpose_sparse_mat(W_dtm)\n",
    "    words_dict = DTM.column_indices\n",
    "    V, D = size(W)\n",
    "    return W, words_dict, V, D\n",
    "end"
   ]
  },
  {
   "cell_type": "markdown",
   "id": "128d0423",
   "metadata": {},
   "source": [
    "## 2. Define functions for inference"
   ]
  },
  {
   "cell_type": "code",
   "execution_count": 3,
   "id": "48270e33",
   "metadata": {},
   "outputs": [
    {
     "data": {
      "text/plain": [
       "my_Gibbs_sampler (generic function with 1 method)"
      ]
     },
     "execution_count": 3,
     "metadata": {},
     "output_type": "execute_result"
    }
   ],
   "source": [
    "#normalize vector\n",
    "function norm_vec(vec)\n",
    "    vec / sum(vec)\n",
    "end\n",
    "\n",
    "function rand_dir(param, d1, d2, d3)\n",
    "    r = zeros(d1,d2,d3)\n",
    "    for k in 1:d3\n",
    "        r[:,:,k] .= rand(Dirichlet(param*ones(d1)), d2)\n",
    "    end\n",
    "    return r\n",
    "end\n",
    "\n",
    "#sample latent variable z\n",
    "function sample_z(θd, φv)\n",
    "    return rand(Categorical(norm_vec(θd .* φv)))\n",
    "end\n",
    "\n",
    "#sample topic probability over document\n",
    "function sample_theta(ndts, d, α)\n",
    "    return rand(Dirichlet(ndts[:,d] .+ α))\n",
    "end\n",
    "\n",
    "#sample word probability over topic\n",
    "function sample_phi(ntvs, t, β)\n",
    "   return rand(Dirichlet(ntvs[:,t] .+ β)) \n",
    "end\n",
    "\n",
    "#initialize\n",
    "function initialize!(Z, Θsamps, Φsamps, ndts, ntvs, W, D, T, α, β)\n",
    "    #sample z \n",
    "    w_count = 0\n",
    "    for d in 1:D\n",
    "        for v in W[:,d].nzind\n",
    "            for _ in 1:W[v,d]\n",
    "                w_count += 1\n",
    "                z = sample_z(Θsamps[:,d,1], Φsamps[v,:,1])\n",
    "                Z[w_count] = z\n",
    "                ndts[z,d] += 1\n",
    "                ntvs[v,z] += 1\n",
    "            end\n",
    "        end\n",
    "        \n",
    "        #sample theta\n",
    "        Θsamps[:,d,1] .= sample_theta(ndts, d, α)\n",
    "    end\n",
    "    \n",
    "    #sample phi\n",
    "    for t in 1:T\n",
    "        Φsamps[:,t,1] .= sample_phi(ntvs, t, β)\n",
    "    end\n",
    "end\n",
    "\n",
    "#Gibbs sampler\n",
    "function my_Gibbs_sampler(data, model_params, n_samps)\n",
    "    @unpack W, D, V = data\n",
    "    @unpack T, α, β = model_params\n",
    "    \n",
    "    #initialize\n",
    "    n_burnin = div(n_samps, 10)\n",
    "    Θsamps = rand_dir(α, T, D, n_samps) \n",
    "    Φsamps = rand_dir(β, V, T, n_samps) \n",
    "    Z = zeros(Int, Int(sum(W)))\n",
    "    ndts = spzeros(T, D); ntvs = spzeros(V, T)\n",
    "    initialize!(Z, Θsamps, Φsamps, ndts, ntvs, W, D, T, α, β)\n",
    "    \n",
    "    @showprogress for s in 2:n_samps\n",
    "        #sample z and theta\n",
    "        w_count = 0\n",
    "        for d in 1:D\n",
    "            for v in W[:,d].nzind\n",
    "                for _ in 1:W[v,d]\n",
    "                    w_count += 1\n",
    "                    z = Z[w_count]\n",
    "                    ndts[z,d] -= 1; ntvs[v,z] -= 1\n",
    "                    \n",
    "                    #sample z and update\n",
    "                    z = sample_z(Θsamps[:,d,s-1], Φsamps[v,:,s-1])\n",
    "                    Z[w_count] = z\n",
    "                    ndts[z,d] += 1; ntvs[v,z] += 1\n",
    "                end\n",
    "            end\n",
    "            \n",
    "            #sample theta\n",
    "            Θsamps[:,d,s] .= sample_theta(ndts, d, α)\n",
    "        end\n",
    "        \n",
    "        #sample phi\n",
    "        for t in 1:T\n",
    "            Φsamps[:,t,s] .= sample_phi(ntvs, t, β)\n",
    "        end\n",
    "    end\n",
    "    \n",
    "    #remove burn-in period\n",
    "    topic_probs = mean(Θsamps[:,:,n_burnin:end], dims=3)[:,:,1]\n",
    "    word_probs = mean(Φsamps[:,:,n_burnin:end], dims=3)[:,:,1]\n",
    "    trained_model = (word_probs=word_probs, topic_probs=topic_probs, Z=Z)\n",
    "    return trained_model\n",
    "end"
   ]
  },
  {
   "cell_type": "markdown",
   "id": "f5818cec",
   "metadata": {},
   "source": [
    "## 3. Experiment"
   ]
  },
  {
   "cell_type": "code",
   "execution_count": 4,
   "id": "32e95e6d",
   "metadata": {},
   "outputs": [
    {
     "name": "stderr",
     "output_type": "stream",
     "text": [
      "\u001b[32mProgress: 100%|█████████████████████████████████████████| Time: 0:00:16\u001b[39m\n"
     ]
    },
    {
     "data": {
      "text/plain": [
       "(word_probs = [0.0030731203676581387 1.0411219546138133e-6 … 4.140112329911465e-5 5.713380751225197e-6; 3.1848163732602784e-6 3.03277844865115e-6 … 7.412267546070748e-7 5.908315252466583e-6; … ; 0.002924532118033383 1.9610889998209462e-5 … 4.348939818002406e-5 3.683509497551611e-6; 1.3689298659296356e-6 2.5568603103576345e-6 … 2.7958805544299105e-6 6.204805555035003e-6], topic_probs = [0.0186805026776744 0.02019157826824011 … 0.08981546545847366 0.04141704319528396; 0.46494647586315524 0.0022603712449542346 … 0.029491322297238838 0.17669035613014888; … ; 0.1402245462598663 0.5464539237189986 … 0.03562442266286158 0.3012613206030048; 8.818564355124799e-5 0.08959048989142376 … 0.5342489280060321 0.018169417302579562], Z = [1, 1, 2, 3, 8, 1, 1, 1, 9, 9  …  3, 8, 8, 7, 9, 9, 9, 7, 8, 8])"
      ]
     },
     "execution_count": 4,
     "metadata": {},
     "output_type": "execute_result"
    }
   ],
   "source": [
    "W, words_dict, V, D = preprocess(\"data.txt\")\n",
    "data = (W=W, D=D, V=V, words_dict)\n",
    "model_params = (T=10, α=1e-2, β=1e-2)\n",
    "n_samps = 500\n",
    "trained_model = my_Gibbs_sampler(data, model_params, n_samps)"
   ]
  },
  {
   "cell_type": "markdown",
   "id": "75c657f1",
   "metadata": {},
   "source": [
    "## 4. Results"
   ]
  },
  {
   "cell_type": "code",
   "execution_count": 5,
   "id": "a585a35a",
   "metadata": {},
   "outputs": [
    {
     "data": {
      "text/plain": [
       "doc_topic_plots (generic function with 1 method)"
      ]
     },
     "execution_count": 5,
     "metadata": {},
     "output_type": "execute_result"
    }
   ],
   "source": [
    "#top words for each topic\n",
    "function top_topics(data, model_params, n_top, trained_model)\n",
    "    @unpack words_dict = data\n",
    "    @unpack T = model_params\n",
    "    @unpack word_probs = trained_model\n",
    "    \n",
    "    #dictionary id -> word\n",
    "    id2word_dict = Dict(value=>key for (key,value) in words_dict)\n",
    "    \n",
    "    #word prob and topic names\n",
    "    topic_col_names = [\"topic_$(t)\" for t in 1:T]\n",
    "    \n",
    "    #word ranking \n",
    "    word_rank = hcat([sortperm(word_probs[:,t], rev=true) for t in 1:T]...)\n",
    "    word_cols = []\n",
    "    for col in eachcol(word_rank)\n",
    "        push!(word_cols, [id2word_dict[col[r]] for r in 1:n_top])\n",
    "    end\n",
    "    return DataFrame(hcat(word_cols...), topic_col_names)\n",
    "end\n",
    "\n",
    "#plot topics probabilities for each document\n",
    "function doc_topic_plots(data, trained_model)\n",
    "    @unpack D = data\n",
    "    @unpack topic_probs = trained_model\n",
    "    p_list = []\n",
    "    for d in Int.(floor.(range(1, D, length=10)))\n",
    "        p = plot(topic_probs[:,d], st=:bar, legend=false, xlabel=\"topic_number\", ylabel=\"prob\", title=\"doc $(d)\"\n",
    "            , ylim=(0,0.2))\n",
    "        push!(p_list, p)\n",
    "    end\n",
    "    return plot(p_list..., layout=(2,5), size=(1000,400))\n",
    "end"
   ]
  },
  {
   "cell_type": "code",
   "execution_count": 6,
   "id": "f7b21268",
   "metadata": {},
   "outputs": [
    {
     "data": {
      "text/html": [
       "<div class=\"data-frame\"><p>10 rows × 10 columns</p><table class=\"data-frame\"><thead><tr><th></th><th>topic_1</th><th>topic_2</th><th>topic_3</th><th>topic_4</th><th>topic_5</th><th>topic_6</th><th>topic_7</th><th>topic_8</th><th>topic_9</th><th>topic_10</th></tr><tr><th></th><th title=\"String\">String</th><th title=\"String\">String</th><th title=\"String\">String</th><th title=\"String\">String</th><th title=\"String\">String</th><th title=\"String\">String</th><th title=\"String\">String</th><th title=\"String\">String</th><th title=\"String\">String</th><th title=\"String\">String</th></tr></thead><tbody><tr><th>1</th><td>サンプル</td><td>分布</td><td>として</td><td>軌道</td><td>実行</td><td>単語</td><td>関数</td><td>分布</td><td>コード</td><td>空間</td></tr><tr><th>2</th><td>分布</td><td>モデル</td><td>平均</td><td>プロット</td><td>コマンド</td><td>トピック</td><td>加速</td><td>近似</td><td>結果</td><td>ベクトル</td></tr><tr><th>3</th><td>計算</td><td>データ</td><td>考え</td><td>周期</td><td>結果</td><td>確率</td><td>コスト</td><td>推論</td><td>実行</td><td>コード</td></tr><tr><th>4</th><td>に</td><td>予測</td><td>パラメータ</td><td>写像</td><td>ファイル</td><td>言語</td><td>問題</td><td>変分</td><td>計算</td><td>行列</td></tr><tr><th>5</th><td>微分</td><td>事後</td><td>推測</td><td>コード</td><td>作成</td><td>出現</td><td>適用</td><td>事後</td><td>実験</td><td>直交</td></tr><tr><th>6</th><td>アルゴリズム</td><td>推定</td><td>用い</td><td>方程</td><td>う</td><td>し</td><td>訓練</td><td>確率</td><td>に</td><td>近似</td></tr><tr><th>7</th><td>という</td><td>真分</td><td>過程</td><td>保存</td><td>基本</td><td>指数</td><td>ば</td><td>正規</td><td>データ</td><td>最小</td></tr><tr><th>8</th><td>て</td><td>計算</td><td>期待</td><td>解析</td><td>利用</td><td>結果</td><td>勾配</td><td>学習</td><td>記事</td><td>方程</td></tr><tr><th>9</th><td>構成</td><td>過程</td><td>数値</td><td>不動</td><td>表示</td><td>生成</td><td>誤差</td><td>コード</td><td>数</td><td>探索</td></tr><tr><th>10</th><td>方法</td><td>確率</td><td>分</td><td>時系</td><td>ジョブ</td><td>ノード</td><td>数列</td><td>関数</td><td>し</td><td>方向</td></tr></tbody></table></div>"
      ],
      "text/latex": [
       "\\begin{tabular}{r|cccccccccc}\n",
       "\t& topic\\_1 & topic\\_2 & topic\\_3 & topic\\_4 & topic\\_5 & topic\\_6 & topic\\_7 & topic\\_8 & topic\\_9 & topic\\_10\\\\\n",
       "\t\\hline\n",
       "\t& String & String & String & String & String & String & String & String & String & String\\\\\n",
       "\t\\hline\n",
       "\t1 & サンプル & 分布 & として & 軌道 & 実行 & 単語 & 関数 & 分布 & コード & 空間 \\\\\n",
       "\t2 & 分布 & モデル & 平均 & プロット & コマンド & トピック & 加速 & 近似 & 結果 & ベクトル \\\\\n",
       "\t3 & 計算 & データ & 考え & 周期 & 結果 & 確率 & コスト & 推論 & 実行 & コード \\\\\n",
       "\t4 & に & 予測 & パラメータ & 写像 & ファイル & 言語 & 問題 & 変分 & 計算 & 行列 \\\\\n",
       "\t5 & 微分 & 事後 & 推測 & コード & 作成 & 出現 & 適用 & 事後 & 実験 & 直交 \\\\\n",
       "\t6 & アルゴリズム & 推定 & 用い & 方程 & う & し & 訓練 & 確率 & に & 近似 \\\\\n",
       "\t7 & という & 真分 & 過程 & 保存 & 基本 & 指数 & ば & 正規 & データ & 最小 \\\\\n",
       "\t8 & て & 計算 & 期待 & 解析 & 利用 & 結果 & 勾配 & 学習 & 記事 & 方程 \\\\\n",
       "\t9 & 構成 & 過程 & 数値 & 不動 & 表示 & 生成 & 誤差 & コード & 数 & 探索 \\\\\n",
       "\t10 & 方法 & 確率 & 分 & 時系 & ジョブ & ノード & 数列 & 関数 & し & 方向 \\\\\n",
       "\\end{tabular}\n"
      ],
      "text/plain": [
       "\u001b[1m10×10 DataFrame\u001b[0m\n",
       "\u001b[1m Row \u001b[0m│\u001b[1m topic_1      \u001b[0m\u001b[1m topic_2 \u001b[0m\u001b[1m topic_3    \u001b[0m\u001b[1m topic_4  \u001b[0m\u001b[1m topic_5  \u001b[0m\u001b[1m topic_6  \u001b[0m\u001b[1m topic_7 \u001b[0m\u001b[1m topic_8 \u001b[0m\u001b[1m topic_9 \u001b[0m\u001b[1m topic_10 \u001b[0m\n",
       "\u001b[1m     \u001b[0m│\u001b[90m String       \u001b[0m\u001b[90m String  \u001b[0m\u001b[90m String     \u001b[0m\u001b[90m String   \u001b[0m\u001b[90m String   \u001b[0m\u001b[90m String   \u001b[0m\u001b[90m String  \u001b[0m\u001b[90m String  \u001b[0m\u001b[90m String  \u001b[0m\u001b[90m String   \u001b[0m\n",
       "─────┼──────────────────────────────────────────────────────────────────────────────────────────────────────\n",
       "   1 │ サンプル      分布     として      軌道      実行      単語      関数     分布     コード   空間\n",
       "   2 │ 分布          モデル   平均        プロット  コマンド  トピック  加速     近似     結果     ベクトル\n",
       "   3 │ 計算          データ   考え        周期      結果      確率      コスト   推論     実行     コード\n",
       "   4 │ に            予測     パラメータ  写像      ファイル  言語      問題     変分     計算     行列\n",
       "   5 │ 微分          事後     推測        コード    作成      出現      適用     事後     実験     直交\n",
       "   6 │ アルゴリズム  推定     用い        方程      う        し        訓練     確率     に       近似\n",
       "   7 │ という        真分     過程        保存      基本      指数      ば       正規     データ   最小\n",
       "   8 │ て            計算     期待        解析      利用      結果      勾配     学習     記事     方程\n",
       "   9 │ 構成          過程     数値        不動      表示      生成      誤差     コード   数       探索\n",
       "  10 │ 方法          確率     分          時系      ジョブ    ノード    数列     関数     し       方向"
      ]
     },
     "execution_count": 6,
     "metadata": {},
     "output_type": "execute_result"
    }
   ],
   "source": [
    "n_top = 10\n",
    "ENV[\"COLUMNS\"] = 500\n",
    "top_topics(data, model_params, n_top, trained_model)"
   ]
  },
  {
   "cell_type": "code",
   "execution_count": 7,
   "id": "1b7fe7fa",
   "metadata": {},
   "outputs": [
    {
     "data": {
      "image/png": "[encoded data removed]",
      "text/plain": [
       "PyPlot.Figure(PyObject <Figure size 1000x400 with 10 Axes>)"
      ]
     },
     "metadata": {},
     "output_type": "display_data"
    }
   ],
   "source": [
    "fig = doc_topic_plots(data, trained_model)\n",
    "savefig(fig, \"fig.png\")"
   ]
  }
 ],
 "metadata": {
  "kernelspec": {
   "display_name": "Julia 1.6.5",
   "language": "julia",
   "name": "julia-1.6"
  },
  "language_info": {
   "file_extension": ".jl",
   "mimetype": "application/julia",
   "name": "julia",
   "version": "1.6.5"
  }
 },
 "nbformat": 4,
 "nbformat_minor": 5
}
