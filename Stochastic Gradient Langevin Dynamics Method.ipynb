{
 "cells": [
  {
   "cell_type": "markdown",
   "id": "5d992306",
   "metadata": {},
   "source": [
    "# Stochastic Gradient Langevin Dynamics Method"
   ]
  },
  {
   "cell_type": "markdown",
   "id": "ba5f7390",
   "metadata": {},
   "source": [
    "## 0. Import"
   ]
  },
  {
   "cell_type": "code",
   "execution_count": 1,
   "id": "e466282e",
   "metadata": {},
   "outputs": [
    {
     "data": {
      "text/plain": [
       "Plots.PyPlotBackend()"
      ]
     },
     "execution_count": 1,
     "metadata": {},
     "output_type": "execute_result"
    }
   ],
   "source": [
    "using Random\n",
    "using Distributions\n",
    "using Statistics\n",
    "using ForwardDiff\n",
    "using LinearAlgebra\n",
    "using ProgressMeter\n",
    "using Plots\n",
    "pyplot()"
   ]
  },
  {
   "cell_type": "markdown",
   "id": "f380e858",
   "metadata": {},
   "source": [
    "## 1. functions"
   ]
  },
  {
   "cell_type": "code",
   "execution_count": 2,
   "id": "921c5367",
   "metadata": {},
   "outputs": [
    {
     "data": {
      "text/plain": [
       "plot_prob_1 (generic function with 1 method)"
      ]
     },
     "execution_count": 2,
     "metadata": {},
     "output_type": "execute_result"
    }
   ],
   "source": [
    "#initialize the parameter\n",
    "function init_params(Dx, D₀, Dy)\n",
    "    W₂ = rand(D₀, Dx)\n",
    "    W₃ = rand(Dy, D₀)\n",
    "    b₂ = zeros(D₀)\n",
    "    b₃ = zeros(Dy)\n",
    "    return W₂, W₃, b₂, b₃\n",
    "end\n",
    "\n",
    "#stick the weights and biases to a large matrix\n",
    "function stick_params(W₂, W₃, b₂, b₃)\n",
    "    tmp1 = vcat(b₂', W₂')\n",
    "    tmp2 = hcat(tmp1, zeros(Dx+1))\n",
    "    tmp3 = hcat(W₃, b₃)\n",
    "    return vcat(tmp2, tmp3)\n",
    "end\n",
    "\n",
    "#devide the paramters vector to weights and biases\n",
    "function reshape_params(params_vec, Dx, D₀, Dy)\n",
    "    W = reshape(params_vec, (Dx+Dy+1, D₀+1))\n",
    "    W₂ = view(W, 2:Dx+1, 1:D₀)'\n",
    "    W₃ = view(W, Dx+2:Dx+Dy+1, 1:D₀)\n",
    "    b₂ = view(W, 1, 1:D₀)\n",
    "    b₃ = view(W, Dx+2:Dx+Dy+1, D₀+1)\n",
    "    return W₂, W₃, b₂, b₃\n",
    "end \n",
    "\n",
    "#sigmoid function\n",
    "σ(ξ) = 1/(1+exp(-ξ)) \n",
    "\n",
    "#Neural Network\n",
    "function Φ(x, params_vec, Dx, D₀, Dy)\n",
    "    W₂, W₃, b₂, b₃ = reshape_params(params_vec, Dx, D₀, Dy)\n",
    "    return σ.(W₃*σ.(W₂*x+b₂) + b₃)\n",
    "end\n",
    "\n",
    "#prior, model, posterior, liklihood\n",
    "logpprior(wvec, λw) = logpdf(MvNormal(zeros(length(wvec)), 1/√λw), wvec)\n",
    "logpmodel(y, x, wvec, Φ) = log(dot(y, Φ(x,wvec))/sum(Φ(x,wvec)))\n",
    "loglik(wvec, Φ, X, Y, N) = sum([logpmodel(Y[:,n], X[:,n], wvec, Φ) for n in 1:N])\n",
    "logppost(wvec, λw, Φ, X, Y, N) = sum(logpprior(wvec,λw)) + loglik(wvec, Φ, X, Y, N)\n",
    "\n",
    "#predictive: returns the probability to new data classify to class 1\n",
    "function ppred(x, wsamps, pmodel)\n",
    "    _,n_samps = size(wsamps)\n",
    "    preds = zeros(n_samps)\n",
    "    for i in 1:n_samps\n",
    "        preds[i] = pmodel([1,0], x, wsamps[:,i])\n",
    "    end\n",
    "    return mean(preds)\n",
    "end\n",
    "\n",
    "#plot the data and return the figure\n",
    "function plot_data(X, Y)\n",
    "    _,N = size(X)\n",
    "    fig = plot(xticks=0:0.2:1, xlim=[0,1], yticks=0:0.2:1, ylim=[0,1], aspect_ratio=:equal, title=\"data\", legend=false)\n",
    "    for k in 1:N\n",
    "        if Y[1,k]==1\n",
    "            plot!([X[1,k]], [X[2,k]], st=:scatter, markershape=:circle, markersize=10, color=\"red\")\n",
    "        else\n",
    "            plot!([X[1,k]], [X[2,k]], st=:scatter, markershape=:x, markersize=10, color=\"blue\")\n",
    "        end\n",
    "    end\n",
    "    return fig\n",
    "end\n",
    "\n",
    "function plot_data(fig, X, Y)\n",
    "    _,N = size(X)\n",
    "    fig = plot!(xticks=0:0.2:1, xlim=[0,1], yticks=0:0.2:1, ylim=[0,1], aspect_ratio=:equal, legend=false)\n",
    "    for k in 1:N\n",
    "        if Y[1,k]==1\n",
    "            plot!([X[1,k]], [X[2,k]], st=:scatter, markershape=:circle, markersize=10, color=\"red\")\n",
    "        else\n",
    "            plot!([X[1,k]], [X[2,k]], st=:scatter, markershape=:x, markersize=10, color=\"blue\")\n",
    "        end\n",
    "    end\n",
    "    return fig\n",
    "end\n",
    "\n",
    "#plot the probability to classify new data to class 1(red point)\n",
    "function plot_prob_1(X, Y, pred_func, title)\n",
    "    T = 50\n",
    "    X1s = range(0,1,length=T)\n",
    "    X2s = range(0,1,length=T)\n",
    "    preds = zeros(T,T)\n",
    "    @showprogress for j in 1:T\n",
    "        x2 = X2s[j]\n",
    "        for i in 1:T\n",
    "            x1 = X1s[i]\n",
    "            preds[i,j] = pred_func([x1,x2])\n",
    "        end\n",
    "    end\n",
    "    fig = heatmap(X1s, X2s, preds, c=cgrad(:coolwarm), alpha=0.6, title=title)\n",
    "    return plot_data(fig, X, Y)\n",
    "end"
   ]
  },
  {
   "cell_type": "markdown",
   "id": "fa352808",
   "metadata": {},
   "source": [
    "## 2. create the data"
   ]
  },
  {
   "cell_type": "code",
   "execution_count": 3,
   "id": "8adffedf",
   "metadata": {},
   "outputs": [
    {
     "data": {
      "image/png": "[encoded data removed]",
      "text/plain": [
       "PyPlot.Figure(PyObject <Figure size 600x400 with 1 Axes>)"
      ]
     },
     "metadata": {},
     "output_type": "display_data"
    },
    {
     "data": {
      "text/plain": [
       "Φ (generic function with 2 methods)"
      ]
     },
     "execution_count": 3,
     "metadata": {},
     "output_type": "execute_result"
    }
   ],
   "source": [
    "#create the data\n",
    "Random.seed!(46)\n",
    "N = 14\n",
    "X = hcat(rand(Beta(1.1,3), 2, div(N,2)), rand(Beta(1.9,1.1), 2, div(N,2)))\n",
    "Y = vcat(vcat(ones(div(N,2)), zeros(div(N,2)))', vcat(zeros(div(N,2)), ones(div(N,2)))')\n",
    "\n",
    "#plot the data\n",
    "fig1 = plot_data(X, Y)\n",
    "savefig(fig1, \"figs-SGLDM/fig1.png\")\n",
    "\n",
    "#initialize the parameters\n",
    "Dx, N = size(X)\n",
    "Dy, N = size(Y)\n",
    "D₀ = 5\n",
    "W₂, W₃, b₂, b₃ = init_params(Dx, D₀, Dy)\n",
    "Ws = stick_params(W₂, W₃, b₂, b₃)\n",
    "wvec₀ = Ws[:]\n",
    "d = length(wvec₀)\n",
    "\n",
    "#Neural Network \n",
    "Φ(x, wvec) = Φ(x, wvec, Dx, D₀, Dy) "
   ]
  },
  {
   "cell_type": "markdown",
   "id": "22b895d7",
   "metadata": {},
   "source": [
    "## 3. Stochastic gradient Langevin dynamics method"
   ]
  },
  {
   "cell_type": "code",
   "execution_count": 4,
   "id": "79d56107",
   "metadata": {},
   "outputs": [
    {
     "data": {
      "text/plain": [
       "model_selection (generic function with 1 method)"
      ]
     },
     "execution_count": 4,
     "metadata": {},
     "output_type": "execute_result"
    }
   ],
   "source": [
    "#MH acceptance and rejection\n",
    "function accept_or_reject(xvec, xvec_old, pvec, pvec_old, H)\n",
    "    ΔH = H(xvec, pvec)-H(xvec_old, pvec_old)\n",
    "    α = min(1.0, exp(-ΔH))\n",
    "    u = rand()\n",
    "    if u≤α\n",
    "        return xvec, pvec\n",
    "    else\n",
    "        return xvec_old, pvec_old\n",
    "    end\n",
    "end\n",
    "\n",
    "#Hamiltonian Monte Carlo\n",
    "function mySGLDM(X, Y, wvec₀, λw, n_samps, n_burnin, logpmodel, logpprior, logppost)\n",
    "    #initialization\n",
    "    _, N = size(X)\n",
    "    d = length(wvec₀)\n",
    "    wsamps = zeros(d, n_samps)\n",
    "    wsamps[:,1] = wvec₀\n",
    "    wvec = zeros(d)\n",
    "    \n",
    "    #hamiltonian and gradient\n",
    "    ∇logpprior(wvec) = ForwardDiff.gradient(wvec->logpprior(wvec, λw), wvec)\n",
    "    ∇logpmodel(y,x,wvec) = ForwardDiff.gradient(wvec->logpmodel(y,x,wvec), wvec)\n",
    "    H(wvec, pvec) = -logppost(wvec, λw) + norm(pvec)^2/2\n",
    "    \n",
    "    #sample\n",
    "    wvec_old = wvec₀\n",
    "    pvec_old = randn(d)\n",
    "    @showprogress for k in 2:n_samps\n",
    "        #randomly choose the data\n",
    "        idx = rand(1:N)\n",
    "        x = X[:,idx]\n",
    "        y = Y[:,idx]\n",
    "        \n",
    "        #update\n",
    "        pvec = randn(d)\n",
    "        αk = 0.1/k\n",
    "        wvec = wvec + αk*(N*∇logpmodel(y,x,wvec) + ∇logpprior(wvec))/2 + √αk*pvec\n",
    "        wvec, pvec = accept_or_reject(wvec, wvec_old, pvec, pvec_old, H)\n",
    "        wsamps[:,k] = wvec\n",
    "        wvec_old = wvec\n",
    "        pvec_old = pvec\n",
    "    end\n",
    "    return wsamps[:,n_burnin:end]\n",
    "end\n",
    "\n",
    "#calculate WAIC\n",
    "function calc_WAIC(X, Y, wsamps, logpmodel)\n",
    "    pmodel(y, x, wvec) = exp(logpmodel(y, x, wvec))\n",
    "    _,N = size(X)\n",
    "    _,n_samps = size(wsamps)\n",
    "    logpreds = zeros(N)\n",
    "    vars = zeros(N)\n",
    "    for n in 1:N\n",
    "        logpreds[n] = -log(mean([pmodel(Y[:,n], X[:,n], wsamps[:,i]) for i in 1:n_samps]))\n",
    "        vars[n] = var([logpmodel(Y[:,n], X[:,n], wsamps[:,i]) for i in 1:n_samps])\n",
    "    end\n",
    "    return mean(logpreds) + mean(vars)\n",
    "end\n",
    "\n",
    "#model selection\n",
    "function model_selection(X, Y, λws, n_samps, n_burnin, logpmodel, logpprior, logppost)\n",
    "    M = length(λws)\n",
    "    WAICs = zeros(M)\n",
    "    for i in 1:M\n",
    "        wsamps = mySGLDM(X, Y, wvec₀, λws[i], n_samps, n_burnin, logpmodel, logpprior, logppost)\n",
    "        WAICs[i] = calc_WAIC(X, Y, wsamps, logpmodel)\n",
    "    end\n",
    "    return WAICs\n",
    "end"
   ]
  },
  {
   "cell_type": "code",
   "execution_count": 5,
   "id": "f8356441",
   "metadata": {},
   "outputs": [
    {
     "name": "stderr",
     "output_type": "stream",
     "text": [
      "\u001b[32mProgress: 100%|█████████████████████████████████████████| Time: 0:00:03\u001b[39m\n",
      "\u001b[32mProgress: 100%|█████████████████████████████████████████| Time: 0:00:00\u001b[39m\n",
      "\u001b[32mProgress: 100%|█████████████████████████████████████████| Time: 0:00:00\u001b[39m\n",
      "\u001b[32mProgress: 100%|█████████████████████████████████████████| Time: 0:00:00\u001b[39m\n",
      "\u001b[32mProgress: 100%|█████████████████████████████████████████| Time: 0:00:00\u001b[39m\n",
      "\u001b[32mProgress: 100%|█████████████████████████████████████████| Time: 0:00:00\u001b[39m\n",
      "\u001b[32mProgress: 100%|█████████████████████████████████████████| Time: 0:00:00\u001b[39m\n",
      "\u001b[32mProgress: 100%|█████████████████████████████████████████| Time: 0:00:00\u001b[39m\n",
      "\u001b[32mProgress: 100%|█████████████████████████████████████████| Time: 0:00:00\u001b[39m\n",
      "\u001b[32mProgress: 100%|█████████████████████████████████████████| Time: 0:00:00\u001b[39m\n"
     ]
    },
    {
     "name": "stdout",
     "output_type": "stream",
     "text": [
      "λw=2.0408163265306127 minimize WAIC (std=0.6999999999999998).\n"
     ]
    },
    {
     "name": "stderr",
     "output_type": "stream",
     "text": [
      "\u001b[32mProgress: 100%|█████████████████████████████████████████| Time: 0:00:00\u001b[39m\n",
      "\u001b[32mProgress: 100%|█████████████████████████████████████████| Time: 0:00:19\u001b[39m\n"
     ]
    },
    {
     "data": {
      "image/png": "[encoded data removed]",
      "text/plain": [
       "PyPlot.Figure(PyObject <Figure size 600x400 with 2 Axes>)"
      ]
     },
     "metadata": {},
     "output_type": "display_data"
    }
   ],
   "source": [
    "#initialize the parameters\n",
    "Random.seed!(42)\n",
    "Dx, N = size(X)\n",
    "Dy, N = size(Y)\n",
    "D₀ = 5\n",
    "W₂, W₃, b₂, b₃ = init_params(Dx, D₀, Dy)\n",
    "Ws = stick_params(W₂, W₃, b₂, b₃)\n",
    "wvec₀ = Ws[:]\n",
    "\n",
    "#Neural Network \n",
    "Φ(x, wvec) = Φ(x, wvec, Dx, D₀, Dy) \n",
    "\n",
    "#prior, model, posterior, predictive\n",
    "logpmodel(y, x, wvec) = logpmodel(y, x, wvec, Φ)\n",
    "pmodel(y,x,wvec) = exp(logpmodel(y,x,wvec))\n",
    "logppost(wvec, λw) = logppost(wvec, λw, Φ, X, Y, N)\n",
    "ppred(x, wsamps) = ppred(x, wsamps, pmodel)\n",
    "\n",
    "#hyperparamter\n",
    "n_samps = 5000\n",
    "n_burnin = div(n_samps,10)\n",
    "λws = 1 ./ collect(0.1:0.1:1).^2\n",
    "WAICs = model_selection(X, Y, λws, n_samps, n_burnin, logpmodel, logpprior, logppost)\n",
    "λw = λws[argmin(WAICs)]\n",
    "println(\"λw=$(λw) minimize WAIC (std=$(1/sqrt(λw))).\")\n",
    "\n",
    "#Stochastic gradient Langevin dynamics method\n",
    "wsamps = mySGLDM(X, Y, wvec₀, λw, n_samps, n_burnin, logpmodel, logpprior, logppost)\n",
    "\n",
    "#plot the result\n",
    "fig2 = plot_prob_1(X, Y, x->ppred(x, wsamps), \"prediction: HMC\")\n",
    "savefig(fig2, \"figs-SGLDM/fig2.png\")"
   ]
  }
 ],
 "metadata": {
  "kernelspec": {
   "display_name": "Julia 1.6.0",
   "language": "julia",
   "name": "julia-1.6"
  },
  "language_info": {
   "file_extension": ".jl",
   "mimetype": "application/julia",
   "name": "julia",
   "version": "1.6.0"
  }
 },
 "nbformat": 4,
 "nbformat_minor": 5
}
